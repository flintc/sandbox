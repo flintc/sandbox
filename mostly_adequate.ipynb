{
 "cells": [
  {
   "cell_type": "code",
   "execution_count": 1,
   "metadata": {},
   "outputs": [],
   "source": [
    "%load_ext autoreload\n",
    "%autoreload 2"
   ]
  },
  {
   "cell_type": "code",
   "execution_count": 4,
   "metadata": {},
   "outputs": [],
   "source": [
    "import itertools as it\n",
    "import functools as ft\n",
    "import pyramda as r\n",
    "import numpy as np\n",
    "import operator as op\n",
    "from dataclasses import dataclass\n",
    "from typing import Any"
   ]
  },
  {
   "cell_type": "code",
   "execution_count": null,
   "metadata": {},
   "outputs": [],
   "source": [
    "import bokeh.plotting as bkp\n",
    "import bokeh.io as bio\n",
    "import bokeh.layouts as bkl\n",
    "import bokeh.models as bkm\n",
    "bio.output_notebook()"
   ]
  },
  {
   "cell_type": "code",
   "execution_count": null,
   "metadata": {},
   "outputs": [],
   "source": []
  },
  {
   "cell_type": "code",
   "execution_count": 42,
   "metadata": {},
   "outputs": [],
   "source": []
  },
  {
   "cell_type": "code",
   "execution_count": 458,
   "metadata": {},
   "outputs": [],
   "source": [
    "@dataclass\n",
    "class Composer:\n",
    "    fn: Any\n",
    "#     def __post_init__(self):\n",
    "#         self.fn = r.curry(self.fn)\n",
    "    @classmethod\n",
    "    def of(cls,fn):\n",
    "        return Composer(lambda x: fn)\n",
    "    # m.chain(f).chain(g) == m.chain(x => f(x).chain(g))\n",
    "    def chain(self,fn):\n",
    "        return fn(self.fn)\n",
    "    def map(self,fn):\n",
    "        return Composer(fn(self.fn))\n",
    "    def ap(self,efn):\n",
    "        return Composer.of(efn.fn(self.fn)(self.fn(self.fn)))\n",
    "\n",
    "#print( Composer(add(1)).chain(sub(9)).fn(8) )\n",
    "#print( Composer(add(1)).chain(lambda x: sub(9)).fn(8) )\n",
    "\n",
    "\n",
    "# fn()\n",
    "@r.curry      \n",
    "def add(x,y):\n",
    "    print(f'adding!')\n",
    "    return x+y\n",
    "@r.curry      \n",
    "def sub(x,y):\n",
    "    print(f'subbing!')\n",
    "    return x-y\n",
    "@r.curry      \n",
    "def mul(x,y):\n",
    "    print(f'mulling!')\n",
    "    return x*y\n",
    "def dec(fn):\n",
    "    def wrapper(*args,**kwargs):\n",
    "        print(f'args {args},{kwargs}')\n",
    "        result = fn(*args,**kwargs)\n",
    "        print(f'{result}')\n",
    "        return result\n",
    "    return wrapper\n",
    "\n",
    "def curry(fn):\n",
    "    @ft.wraps(fn)\n",
    "    def wrapper(*arg,**kwargs):\n",
    "        try:\n",
    "            return fn(*arg,**kwargs)\n",
    "        except TypeError as e:\n",
    "            #print(e)\n",
    "            if hasattr(fn,'func'):\n",
    "                return curry(ft.partial(fn.func,*fn.args,*arg,**fn.keywords,**kwargs))\n",
    "            else:\n",
    "                return curry(ft.partial(fn,*arg,**kwargs))\n",
    "    return wrapper\n",
    "\n",
    "class Chainable:\n",
    "    def __getattribute__(self,name):\n",
    "        fn = globals()[name]\n",
    "        def wrapper(*args,**kwargs):\n",
    "            def compose(ofn):\n",
    "                return Composer(lambda x: fn(ofn(x)))\n",
    "            return compose\n",
    "        return lambda ofn: Composer(lambda x: fn(ofn(x))) if callable(fn) else fn"
   ]
  },
  {
   "cell_type": "code",
   "execution_count": 343,
   "metadata": {},
   "outputs": [
    {
     "name": "stdout",
     "output_type": "stream",
     "text": [
      "-198\n",
      "-198\n"
     ]
    }
   ],
   "source": [
    "#C = Chainable()\n",
    "of = Composer.of\n",
    "print(of(-199).ap(of(sub)).fn(1)(-1))\n",
    "print(of(sub(-199)).fn(1)(-1))\n",
    "\n",
    "# b = of(add(9))\n",
    "# a = of(sub(3))\n",
    "# b.ap(a.map(add))"
   ]
  },
  {
   "cell_type": "code",
   "execution_count": 185,
   "metadata": {},
   "outputs": [
    {
     "data": {
      "text/plain": [
       "17"
      ]
     },
     "execution_count": 185,
     "metadata": {},
     "output_type": "execute_result"
    }
   ],
   "source": [
    "of(lambda x: add).ap(of(lambda x: x(-4) )).fn(1)(9)(8)"
   ]
  },
  {
   "cell_type": "code",
   "execution_count": 160,
   "metadata": {},
   "outputs": [
    {
     "name": "stdout",
     "output_type": "stream",
     "text": [
      "-4\n",
      "-4\n"
     ]
    },
    {
     "data": {
      "text/plain": [
       "-4"
      ]
     },
     "execution_count": 160,
     "metadata": {},
     "output_type": "execute_result"
    }
   ],
   "source": [
    "m = Composer(add(1))\n",
    "f = lambda val: Composer(lambda x: add(2)(val(x)))\n",
    "g = lambda val: Composer(lambda x: sub(9)(val(x)))\n",
    "print( m.chain(f).chain(g).fn(10) )\n",
    "print( m.chain(lambda x: f(x).chain(g)).fn(10) )\n",
    "9-(2+(1+10))"
   ]
  },
  {
   "cell_type": "code",
   "execution_count": 161,
   "metadata": {},
   "outputs": [
    {
     "name": "stdout",
     "output_type": "stream",
     "text": [
      "args (10,),{}\n",
      "13\n"
     ]
    },
    {
     "data": {
      "text/plain": [
       "-4"
      ]
     },
     "execution_count": 161,
     "metadata": {},
     "output_type": "execute_result"
    }
   ],
   "source": [
    "m.chain(f).map(dec).chain(g).fn(10)"
   ]
  },
  {
   "cell_type": "code",
   "execution_count": 134,
   "metadata": {},
   "outputs": [],
   "source": []
  },
  {
   "cell_type": "code",
   "execution_count": null,
   "metadata": {},
   "outputs": [],
   "source": []
  },
  {
   "cell_type": "code",
   "execution_count": 148,
   "metadata": {},
   "outputs": [
    {
     "name": "stdout",
     "output_type": "stream",
     "text": [
      "args (10,),{}\n",
      "args (10,),{}\n",
      "args (10,),{}\n",
      "19\n",
      "71\n",
      "71\n"
     ]
    },
    {
     "data": {
      "text/plain": [
       "71"
      ]
     },
     "execution_count": 148,
     "metadata": {},
     "output_type": "execute_result"
    }
   ],
   "source": [
    "# A.of(x).ap(A.of(f)) === A.of(f(x))\n",
    "out = ( \n",
    "Composer(add(9))\n",
    "    .map(dec)\n",
    "    .chain(sub(90))\n",
    "    .map(dec)\n",
    "#    .ap( of(1).ap( of(sub) ) )\n",
    "    .map(dec) \n",
    "#    .chain(of(90)) \n",
    "\n",
    "#    .fn(1)\n",
    ")\n",
    "out.fn(10)"
   ]
  },
  {
   "cell_type": "code",
   "execution_count": 71,
   "metadata": {
    "scrolled": true
   },
   "outputs": [
    {
     "data": {
      "text/plain": [
       "Composer(fn=1)"
      ]
     },
     "execution_count": 71,
     "metadata": {},
     "output_type": "execute_result"
    }
   ],
   "source": [
    "Composer(lambda x: x).ap(Composer(1) )"
   ]
  },
  {
   "cell_type": "code",
   "execution_count": 375,
   "metadata": {},
   "outputs": [],
   "source": [
    "def compose(f,g):\n",
    "    def wrapper(*args,**kwargs):\n",
    "        return f(g(*args,**kwargs))\n",
    "    return wrapper\n",
    "\n",
    "@dataclass\n",
    "class IO:\n",
    "    unsafe_io: Any\n",
    "    @classmethod\n",
    "    def of(cls,x):\n",
    "        return cls(lambda *args,**kwargs: x)\n",
    "    def map(self,fn):\n",
    "        return IO(compose(fn,self.unsafe_io))\n",
    "    def ap(self,f):\n",
    "        return self.chain(lambda fn: f.map(fn))\n",
    "    def chain(self,fn):\n",
    "        return self.map(fn).join()\n",
    "    def join(self):\n",
    "        return self.unsafe_io()\n",
    "    "
   ]
  },
  {
   "cell_type": "code",
   "execution_count": 376,
   "metadata": {},
   "outputs": [
    {
     "ename": "AttributeError",
     "evalue": "'function' object has no attribute 'ap'",
     "output_type": "error",
     "traceback": [
      "\u001b[0;31m---------------------------------------------------------------------------\u001b[0m",
      "\u001b[0;31mAttributeError\u001b[0m                            Traceback (most recent call last)",
      "\u001b[0;32m<ipython-input-376-2236ba04819d>\u001b[0m in \u001b[0;36m<module>\u001b[0;34m()\u001b[0m\n\u001b[1;32m      1\u001b[0m \u001b[0mof\u001b[0m \u001b[0;34m=\u001b[0m \u001b[0mIO\u001b[0m\u001b[0;34m.\u001b[0m\u001b[0mof\u001b[0m\u001b[0;34m\u001b[0m\u001b[0m\n\u001b[0;32m----> 2\u001b[0;31m \u001b[0mio_op0\u001b[0m \u001b[0;34m=\u001b[0m \u001b[0mof\u001b[0m\u001b[0;34m(\u001b[0m\u001b[0madd\u001b[0m\u001b[0;34m)\u001b[0m\u001b[0;34m.\u001b[0m\u001b[0map\u001b[0m\u001b[0;34m(\u001b[0m\u001b[0mof\u001b[0m\u001b[0;34m(\u001b[0m\u001b[0;36m1\u001b[0m\u001b[0;34m)\u001b[0m\u001b[0;34m)\u001b[0m\u001b[0;34m.\u001b[0m\u001b[0map\u001b[0m\u001b[0;34m(\u001b[0m\u001b[0mof\u001b[0m\u001b[0;34m(\u001b[0m\u001b[0;36m1\u001b[0m\u001b[0;34m)\u001b[0m\u001b[0;34m)\u001b[0m\u001b[0;31m#.ap(of(sub) )#.ap(of(1))#.ap(of(19))\u001b[0m\u001b[0;34m\u001b[0m\u001b[0m\n\u001b[0m\u001b[1;32m      3\u001b[0m \u001b[0mio_op\u001b[0m \u001b[0;34m=\u001b[0m \u001b[0mof\u001b[0m\u001b[0;34m(\u001b[0m\u001b[0madd\u001b[0m\u001b[0;34m)\u001b[0m\u001b[0;34m\u001b[0m\u001b[0m\n\u001b[1;32m      4\u001b[0m \u001b[0mio_op0\u001b[0m\u001b[0;34m\u001b[0m\u001b[0m\n",
      "\u001b[0;31mAttributeError\u001b[0m: 'function' object has no attribute 'ap'"
     ]
    }
   ],
   "source": [
    "of = IO.of\n",
    "io_op0 = of(add).ap(of(1)).ap(of(1))#.ap(of(sub) )#.ap(of(1))#.ap(of(19))\n",
    "io_op = of(add)\n",
    "io_op0"
   ]
  },
  {
   "cell_type": "code",
   "execution_count": 374,
   "metadata": {},
   "outputs": [
    {
     "name": "stdout",
     "output_type": "stream",
     "text": [
      "adding!\n"
     ]
    },
    {
     "data": {
      "text/plain": [
       "2"
      ]
     },
     "execution_count": 374,
     "metadata": {},
     "output_type": "execute_result"
    }
   ],
   "source": [
    "io_op0.unsafe_io(9)"
   ]
  },
  {
   "cell_type": "code",
   "execution_count": null,
   "metadata": {},
   "outputs": [],
   "source": []
  },
  {
   "cell_type": "code",
   "execution_count": 371,
   "metadata": {},
   "outputs": [
    {
     "name": "stdout",
     "output_type": "stream",
     "text": [
      "subbing!\n"
     ]
    },
    {
     "ename": "TypeError",
     "evalue": "unsupported operand type(s) for -: 'int' and 'function'",
     "output_type": "error",
     "traceback": [
      "\u001b[0;31m---------------------------------------------------------------------------\u001b[0m",
      "\u001b[0;31mTypeError\u001b[0m                                 Traceback (most recent call last)",
      "\u001b[0;32m<ipython-input-371-7ecfaf349d8c>\u001b[0m in \u001b[0;36m<module>\u001b[0;34m()\u001b[0m\n\u001b[0;32m----> 1\u001b[0;31m \u001b[0mIO\u001b[0m\u001b[0;34m.\u001b[0m\u001b[0mof\u001b[0m\u001b[0;34m(\u001b[0m\u001b[0madd\u001b[0m\u001b[0;34m(\u001b[0m\u001b[0;36m1\u001b[0m\u001b[0;34m)\u001b[0m\u001b[0;34m)\u001b[0m\u001b[0;34m.\u001b[0m\u001b[0mmap\u001b[0m\u001b[0;34m(\u001b[0m\u001b[0msub\u001b[0m\u001b[0;34m(\u001b[0m\u001b[0;36m10\u001b[0m\u001b[0;34m)\u001b[0m\u001b[0;34m)\u001b[0m\u001b[0;34m.\u001b[0m\u001b[0map\u001b[0m\u001b[0;34m(\u001b[0m\u001b[0mof\u001b[0m\u001b[0;34m(\u001b[0m\u001b[0;36m8\u001b[0m\u001b[0;34m)\u001b[0m\u001b[0;34m)\u001b[0m\u001b[0;34m.\u001b[0m\u001b[0munsafe_io\u001b[0m\u001b[0;34m(\u001b[0m\u001b[0mof\u001b[0m\u001b[0;34m(\u001b[0m\u001b[0;36m9\u001b[0m\u001b[0;34m)\u001b[0m\u001b[0;34m)\u001b[0m\u001b[0;34m\u001b[0m\u001b[0m\n\u001b[0m",
      "\u001b[0;32m<ipython-input-198-bfaa4ca8c812>\u001b[0m in \u001b[0;36map\u001b[0;34m(self, f)\u001b[0m\n\u001b[1;32m     13\u001b[0m         \u001b[0;32mreturn\u001b[0m \u001b[0mIO\u001b[0m\u001b[0;34m(\u001b[0m\u001b[0mcompose\u001b[0m\u001b[0;34m(\u001b[0m\u001b[0mfn\u001b[0m\u001b[0;34m,\u001b[0m\u001b[0mself\u001b[0m\u001b[0;34m.\u001b[0m\u001b[0munsafe_io\u001b[0m\u001b[0;34m)\u001b[0m\u001b[0;34m)\u001b[0m\u001b[0;34m\u001b[0m\u001b[0m\n\u001b[1;32m     14\u001b[0m     \u001b[0;32mdef\u001b[0m \u001b[0map\u001b[0m\u001b[0;34m(\u001b[0m\u001b[0mself\u001b[0m\u001b[0;34m,\u001b[0m\u001b[0mf\u001b[0m\u001b[0;34m)\u001b[0m\u001b[0;34m:\u001b[0m\u001b[0;34m\u001b[0m\u001b[0m\n\u001b[0;32m---> 15\u001b[0;31m         \u001b[0;32mreturn\u001b[0m \u001b[0mself\u001b[0m\u001b[0;34m.\u001b[0m\u001b[0mchain\u001b[0m\u001b[0;34m(\u001b[0m\u001b[0;32mlambda\u001b[0m \u001b[0mfn\u001b[0m\u001b[0;34m:\u001b[0m \u001b[0mf\u001b[0m\u001b[0;34m.\u001b[0m\u001b[0mmap\u001b[0m\u001b[0;34m(\u001b[0m\u001b[0mfn\u001b[0m\u001b[0;34m)\u001b[0m\u001b[0;34m)\u001b[0m\u001b[0;34m\u001b[0m\u001b[0m\n\u001b[0m\u001b[1;32m     16\u001b[0m     \u001b[0;32mdef\u001b[0m \u001b[0mchain\u001b[0m\u001b[0;34m(\u001b[0m\u001b[0mself\u001b[0m\u001b[0;34m,\u001b[0m\u001b[0mfn\u001b[0m\u001b[0;34m)\u001b[0m\u001b[0;34m:\u001b[0m\u001b[0;34m\u001b[0m\u001b[0m\n\u001b[1;32m     17\u001b[0m         \u001b[0;32mreturn\u001b[0m \u001b[0mself\u001b[0m\u001b[0;34m.\u001b[0m\u001b[0mmap\u001b[0m\u001b[0;34m(\u001b[0m\u001b[0mfn\u001b[0m\u001b[0;34m)\u001b[0m\u001b[0;34m.\u001b[0m\u001b[0mjoin\u001b[0m\u001b[0;34m(\u001b[0m\u001b[0;34m)\u001b[0m\u001b[0;34m\u001b[0m\u001b[0m\n",
      "\u001b[0;32m<ipython-input-198-bfaa4ca8c812>\u001b[0m in \u001b[0;36mchain\u001b[0;34m(self, fn)\u001b[0m\n\u001b[1;32m     15\u001b[0m         \u001b[0;32mreturn\u001b[0m \u001b[0mself\u001b[0m\u001b[0;34m.\u001b[0m\u001b[0mchain\u001b[0m\u001b[0;34m(\u001b[0m\u001b[0;32mlambda\u001b[0m \u001b[0mfn\u001b[0m\u001b[0;34m:\u001b[0m \u001b[0mf\u001b[0m\u001b[0;34m.\u001b[0m\u001b[0mmap\u001b[0m\u001b[0;34m(\u001b[0m\u001b[0mfn\u001b[0m\u001b[0;34m)\u001b[0m\u001b[0;34m)\u001b[0m\u001b[0;34m\u001b[0m\u001b[0m\n\u001b[1;32m     16\u001b[0m     \u001b[0;32mdef\u001b[0m \u001b[0mchain\u001b[0m\u001b[0;34m(\u001b[0m\u001b[0mself\u001b[0m\u001b[0;34m,\u001b[0m\u001b[0mfn\u001b[0m\u001b[0;34m)\u001b[0m\u001b[0;34m:\u001b[0m\u001b[0;34m\u001b[0m\u001b[0m\n\u001b[0;32m---> 17\u001b[0;31m         \u001b[0;32mreturn\u001b[0m \u001b[0mself\u001b[0m\u001b[0;34m.\u001b[0m\u001b[0mmap\u001b[0m\u001b[0;34m(\u001b[0m\u001b[0mfn\u001b[0m\u001b[0;34m)\u001b[0m\u001b[0;34m.\u001b[0m\u001b[0mjoin\u001b[0m\u001b[0;34m(\u001b[0m\u001b[0;34m)\u001b[0m\u001b[0;34m\u001b[0m\u001b[0m\n\u001b[0m\u001b[1;32m     18\u001b[0m     \u001b[0;32mdef\u001b[0m \u001b[0mjoin\u001b[0m\u001b[0;34m(\u001b[0m\u001b[0mself\u001b[0m\u001b[0;34m)\u001b[0m\u001b[0;34m:\u001b[0m\u001b[0;34m\u001b[0m\u001b[0m\n\u001b[1;32m     19\u001b[0m         \u001b[0;32mreturn\u001b[0m \u001b[0mself\u001b[0m\u001b[0;34m.\u001b[0m\u001b[0munsafe_io\u001b[0m\u001b[0;34m(\u001b[0m\u001b[0;34m)\u001b[0m\u001b[0;34m\u001b[0m\u001b[0m\n",
      "\u001b[0;32m<ipython-input-198-bfaa4ca8c812>\u001b[0m in \u001b[0;36mjoin\u001b[0;34m(self)\u001b[0m\n\u001b[1;32m     17\u001b[0m         \u001b[0;32mreturn\u001b[0m \u001b[0mself\u001b[0m\u001b[0;34m.\u001b[0m\u001b[0mmap\u001b[0m\u001b[0;34m(\u001b[0m\u001b[0mfn\u001b[0m\u001b[0;34m)\u001b[0m\u001b[0;34m.\u001b[0m\u001b[0mjoin\u001b[0m\u001b[0;34m(\u001b[0m\u001b[0;34m)\u001b[0m\u001b[0;34m\u001b[0m\u001b[0m\n\u001b[1;32m     18\u001b[0m     \u001b[0;32mdef\u001b[0m \u001b[0mjoin\u001b[0m\u001b[0;34m(\u001b[0m\u001b[0mself\u001b[0m\u001b[0;34m)\u001b[0m\u001b[0;34m:\u001b[0m\u001b[0;34m\u001b[0m\u001b[0m\n\u001b[0;32m---> 19\u001b[0;31m         \u001b[0;32mreturn\u001b[0m \u001b[0mself\u001b[0m\u001b[0;34m.\u001b[0m\u001b[0munsafe_io\u001b[0m\u001b[0;34m(\u001b[0m\u001b[0;34m)\u001b[0m\u001b[0;34m\u001b[0m\u001b[0m\n\u001b[0m\u001b[1;32m     20\u001b[0m \u001b[0;34m\u001b[0m\u001b[0m\n",
      "\u001b[0;32m<ipython-input-198-bfaa4ca8c812>\u001b[0m in \u001b[0;36mwrapper\u001b[0;34m(*args, **kwargs)\u001b[0m\n\u001b[1;32m      1\u001b[0m \u001b[0;32mdef\u001b[0m \u001b[0mcompose\u001b[0m\u001b[0;34m(\u001b[0m\u001b[0mf\u001b[0m\u001b[0;34m,\u001b[0m\u001b[0mg\u001b[0m\u001b[0;34m)\u001b[0m\u001b[0;34m:\u001b[0m\u001b[0;34m\u001b[0m\u001b[0m\n\u001b[1;32m      2\u001b[0m     \u001b[0;32mdef\u001b[0m \u001b[0mwrapper\u001b[0m\u001b[0;34m(\u001b[0m\u001b[0;34m*\u001b[0m\u001b[0margs\u001b[0m\u001b[0;34m,\u001b[0m\u001b[0;34m**\u001b[0m\u001b[0mkwargs\u001b[0m\u001b[0;34m)\u001b[0m\u001b[0;34m:\u001b[0m\u001b[0;34m\u001b[0m\u001b[0m\n\u001b[0;32m----> 3\u001b[0;31m         \u001b[0;32mreturn\u001b[0m \u001b[0mf\u001b[0m\u001b[0;34m(\u001b[0m\u001b[0mg\u001b[0m\u001b[0;34m(\u001b[0m\u001b[0;34m*\u001b[0m\u001b[0margs\u001b[0m\u001b[0;34m,\u001b[0m\u001b[0;34m**\u001b[0m\u001b[0mkwargs\u001b[0m\u001b[0;34m)\u001b[0m\u001b[0;34m)\u001b[0m\u001b[0;34m\u001b[0m\u001b[0m\n\u001b[0m\u001b[1;32m      4\u001b[0m     \u001b[0;32mreturn\u001b[0m \u001b[0mwrapper\u001b[0m\u001b[0;34m\u001b[0m\u001b[0m\n\u001b[1;32m      5\u001b[0m \u001b[0;34m\u001b[0m\u001b[0m\n",
      "\u001b[0;32m<ipython-input-198-bfaa4ca8c812>\u001b[0m in \u001b[0;36mwrapper\u001b[0;34m(*args, **kwargs)\u001b[0m\n\u001b[1;32m      1\u001b[0m \u001b[0;32mdef\u001b[0m \u001b[0mcompose\u001b[0m\u001b[0;34m(\u001b[0m\u001b[0mf\u001b[0m\u001b[0;34m,\u001b[0m\u001b[0mg\u001b[0m\u001b[0;34m)\u001b[0m\u001b[0;34m:\u001b[0m\u001b[0;34m\u001b[0m\u001b[0m\n\u001b[1;32m      2\u001b[0m     \u001b[0;32mdef\u001b[0m \u001b[0mwrapper\u001b[0m\u001b[0;34m(\u001b[0m\u001b[0;34m*\u001b[0m\u001b[0margs\u001b[0m\u001b[0;34m,\u001b[0m\u001b[0;34m**\u001b[0m\u001b[0mkwargs\u001b[0m\u001b[0;34m)\u001b[0m\u001b[0;34m:\u001b[0m\u001b[0;34m\u001b[0m\u001b[0m\n\u001b[0;32m----> 3\u001b[0;31m         \u001b[0;32mreturn\u001b[0m \u001b[0mf\u001b[0m\u001b[0;34m(\u001b[0m\u001b[0mg\u001b[0m\u001b[0;34m(\u001b[0m\u001b[0;34m*\u001b[0m\u001b[0margs\u001b[0m\u001b[0;34m,\u001b[0m\u001b[0;34m**\u001b[0m\u001b[0mkwargs\u001b[0m\u001b[0;34m)\u001b[0m\u001b[0;34m)\u001b[0m\u001b[0;34m\u001b[0m\u001b[0m\n\u001b[0m\u001b[1;32m      4\u001b[0m     \u001b[0;32mreturn\u001b[0m \u001b[0mwrapper\u001b[0m\u001b[0;34m\u001b[0m\u001b[0m\n\u001b[1;32m      5\u001b[0m \u001b[0;34m\u001b[0m\u001b[0m\n",
      "\u001b[0;32m~/miniconda3/lib/python3.6/site-packages/pyramda/function/curry.py\u001b[0m in \u001b[0;36mcurried\u001b[0;34m(*args, **kwargs)\u001b[0m\n\u001b[1;32m     13\u001b[0m         \u001b[0marg_values\u001b[0m \u001b[0;34m=\u001b[0m \u001b[0mArgValues\u001b[0m\u001b[0;34m(\u001b[0m\u001b[0margs\u001b[0m\u001b[0;34m,\u001b[0m \u001b[0mkwargs\u001b[0m\u001b[0;34m)\u001b[0m\u001b[0;34m\u001b[0m\u001b[0m\n\u001b[1;32m     14\u001b[0m         \u001b[0;32mif\u001b[0m \u001b[0marg_values_fulfill_curry_spec\u001b[0m\u001b[0;34m(\u001b[0m\u001b[0mcurry_spec\u001b[0m\u001b[0;34m,\u001b[0m \u001b[0marg_values\u001b[0m\u001b[0;34m)\u001b[0m\u001b[0;34m:\u001b[0m\u001b[0;34m\u001b[0m\u001b[0m\n\u001b[0;32m---> 15\u001b[0;31m             \u001b[0;32mreturn\u001b[0m \u001b[0mf\u001b[0m\u001b[0;34m(\u001b[0m\u001b[0;34m*\u001b[0m\u001b[0margs\u001b[0m\u001b[0;34m,\u001b[0m \u001b[0;34m**\u001b[0m\u001b[0mkwargs\u001b[0m\u001b[0;34m)\u001b[0m\u001b[0;34m\u001b[0m\u001b[0m\n\u001b[0m\u001b[1;32m     16\u001b[0m         \u001b[0;32melse\u001b[0m\u001b[0;34m:\u001b[0m\u001b[0;34m\u001b[0m\u001b[0m\n\u001b[1;32m     17\u001b[0m             \u001b[0mpartialed_f\u001b[0m \u001b[0;34m=\u001b[0m \u001b[0mwraps\u001b[0m\u001b[0;34m(\u001b[0m\u001b[0mf\u001b[0m\u001b[0;34m)\u001b[0m\u001b[0;34m(\u001b[0m\u001b[0mpartial\u001b[0m\u001b[0;34m(\u001b[0m\u001b[0mf\u001b[0m\u001b[0;34m,\u001b[0m \u001b[0;34m*\u001b[0m\u001b[0margs\u001b[0m\u001b[0;34m,\u001b[0m \u001b[0;34m**\u001b[0m\u001b[0mkwargs\u001b[0m\u001b[0;34m)\u001b[0m\u001b[0;34m)\u001b[0m\u001b[0;34m\u001b[0m\u001b[0m\n",
      "\u001b[0;32m<ipython-input-344-360f8d8dee18>\u001b[0m in \u001b[0;36msub\u001b[0;34m(x, y)\u001b[0m\n\u001b[1;32m     27\u001b[0m \u001b[0;32mdef\u001b[0m \u001b[0msub\u001b[0m\u001b[0;34m(\u001b[0m\u001b[0mx\u001b[0m\u001b[0;34m,\u001b[0m\u001b[0my\u001b[0m\u001b[0;34m)\u001b[0m\u001b[0;34m:\u001b[0m\u001b[0;34m\u001b[0m\u001b[0m\n\u001b[1;32m     28\u001b[0m     \u001b[0mprint\u001b[0m\u001b[0;34m(\u001b[0m\u001b[0;34mf'subbing!'\u001b[0m\u001b[0;34m)\u001b[0m\u001b[0;34m\u001b[0m\u001b[0m\n\u001b[0;32m---> 29\u001b[0;31m     \u001b[0;32mreturn\u001b[0m \u001b[0mx\u001b[0m\u001b[0;34m-\u001b[0m\u001b[0my\u001b[0m\u001b[0;34m\u001b[0m\u001b[0m\n\u001b[0m\u001b[1;32m     30\u001b[0m \u001b[0;34m@\u001b[0m\u001b[0mr\u001b[0m\u001b[0;34m.\u001b[0m\u001b[0mcurry\u001b[0m\u001b[0;34m\u001b[0m\u001b[0m\n\u001b[1;32m     31\u001b[0m \u001b[0;32mdef\u001b[0m \u001b[0mmul\u001b[0m\u001b[0;34m(\u001b[0m\u001b[0mx\u001b[0m\u001b[0;34m,\u001b[0m\u001b[0my\u001b[0m\u001b[0;34m)\u001b[0m\u001b[0;34m:\u001b[0m\u001b[0;34m\u001b[0m\u001b[0m\n",
      "\u001b[0;31mTypeError\u001b[0m: unsupported operand type(s) for -: 'int' and 'function'"
     ]
    }
   ],
   "source": [
    "IO.of(add(1)).map(sub(10)).ap(of(8)).unsafe_io(of(9))"
   ]
  },
  {
   "cell_type": "code",
   "execution_count": 353,
   "metadata": {},
   "outputs": [
    {
     "name": "stdout",
     "output_type": "stream",
     "text": [
      "adding!\n"
     ]
    },
    {
     "data": {
      "text/plain": [
       "20"
      ]
     },
     "execution_count": 353,
     "metadata": {},
     "output_type": "execute_result"
    }
   ],
   "source": [
    "io_op0.join()"
   ]
  },
  {
   "cell_type": "code",
   "execution_count": null,
   "metadata": {},
   "outputs": [],
   "source": []
  },
  {
   "cell_type": "code",
   "execution_count": 292,
   "metadata": {},
   "outputs": [],
   "source": [
    "def encase(fn):\n",
    "    def wrapper(*args,**kwargs):\n",
    "        @ft.wraps(fn)\n",
    "        def get_result():\n",
    "            try:\n",
    "                return fn(*args,**kwargs)\n",
    "            except Exception as e:\n",
    "                return e\n",
    "        def fork(reject,resolve):\n",
    "            result = get_result()\n",
    "            print(f'result: {result}')\n",
    "            return resolve(result) if not isinstance(result,Exception) else reject(result)\n",
    "        get_result.fork = fork\n",
    "        return get_result\n",
    "    return wrapper\n",
    "\n",
    "@r.curry\n",
    "def fork(io_op,reject,resolve):\n",
    "    result = io_op.join()\n",
    "    print(f'result: {result}')\n",
    "    return resolve(result) if not isinstance(result,Exception) else reject(result)\n",
    "\n",
    "@dataclass\n",
    "class Task:\n",
    "    fork: Any\n",
    "    @classmethod\n",
    "    def of(cls,x):\n",
    "        return cls( lambda _,resolve: resolve(x) )\n",
    "    def map(self,fn):\n",
    "        return Task(lambda reject,resolve: self.fork(reject,compose(resolve,fn)))\n",
    "    def ap(self,f):\n",
    "        return self.chain(lambda fn: f.map(fn))\n",
    "    def chain(self,fn):\n",
    "        return Task(\n",
    "            lambda reject,resolve: \n",
    "            self.fork(reject,fn(lambda x: fn(x).fork(reject,resolve)))\n",
    "        )\n",
    "    def join(self):\n",
    "        return self.chain(join)"
   ]
  },
  {
   "cell_type": "code",
   "execution_count": 293,
   "metadata": {},
   "outputs": [
    {
     "name": "stdout",
     "output_type": "stream",
     "text": [
      "result: 3\n"
     ]
    }
   ],
   "source": [
    "encase(add)(1,2).fork(r.identity,r.add(80))\n",
    "def join(x):\n",
    "    return x.join()"
   ]
  },
  {
   "cell_type": "code",
   "execution_count": 294,
   "metadata": {
    "scrolled": true
   },
   "outputs": [
    {
     "name": "stdout",
     "output_type": "stream",
     "text": [
      "result: unsupported operand type(s) for +: 'int' and 'str'\n"
     ]
    },
    {
     "data": {
      "text/plain": [
       "TypeError(\"unsupported operand type(s) for +: 'int' and 'str'\")"
      ]
     },
     "execution_count": 294,
     "metadata": {},
     "output_type": "execute_result"
    }
   ],
   "source": [
    "Task(encase(add)(1,'2').fork).fork(r.identity,r.identity)"
   ]
  },
  {
   "cell_type": "code",
   "execution_count": 295,
   "metadata": {},
   "outputs": [
    {
     "data": {
      "text/plain": [
       "IO(unsafe_io=<function compose.<locals>.wrapper at 0x1122deb70>)"
      ]
     },
     "execution_count": 295,
     "metadata": {},
     "output_type": "execute_result"
    }
   ],
   "source": [
    "Task.of(io_op.ap(of(10)).ap(of(-90))).fork(r.add(9),r.identity)"
   ]
  },
  {
   "cell_type": "code",
   "execution_count": 299,
   "metadata": {},
   "outputs": [
    {
     "data": {
      "text/plain": [
       "Task(fork=<function Task.chain.<locals>.<lambda> at 0x1122de400>)"
      ]
     },
     "execution_count": 299,
     "metadata": {},
     "output_type": "execute_result"
    }
   ],
   "source": [
    "Task.of(io_op.ap(of(10)).ap(of(-90))).join()"
   ]
  },
  {
   "cell_type": "code",
   "execution_count": 300,
   "metadata": {},
   "outputs": [],
   "source": [
    "@dataclass\n",
    "class Either:\n",
    "    value: Any\n",
    "    @classmethod\n",
    "    def of(cls,value):\n",
    "        return cls.right(value)\n",
    "\n",
    "@dataclass\n",
    "class Left(Either):\n",
    "    def is_left(self):\n",
    "        return True\n",
    "    def is_right(self):\n",
    "        return False\n",
    "    @classmethod\n",
    "    def of(self,value):\n",
    "        raise NotImplemented\n",
    "    def map(self,fn):\n",
    "        return self\n",
    "    def ap(self,fn):\n",
    "        return self\n",
    "    def chain(self,fn):\n",
    "        return self \n",
    "    def join(self):\n",
    "        return self\n",
    "    def sequence(self,of):\n",
    "        return of(self)\n",
    "    def traverse(self,of,fn):\n",
    "        return of(self)\n",
    "\n",
    "@dataclass\n",
    "class Right(Either):\n",
    "    def is_left(self):\n",
    "        return False\n",
    "    def is_right(self):\n",
    "        return True\n",
    "    @classmethod\n",
    "    def of(cls,value):\n",
    "        raise NotImplementedError\n",
    "    def map(self,fn):\n",
    "        return Either.of(fn(self.value))\n",
    "    def ap(self,f):\n",
    "        return f.map(self.value)\n",
    "    def chain(self,fn):\n",
    "        return fn(self.value)\n",
    "    def join(self):\n",
    "        return self.value\n",
    "    def sequence(self,of):\n",
    "        return self.traverse(of,r.identity)\n",
    "    def traverse(self,of,fn):\n",
    "        return fn(self.value).map(Either.of)\n",
    "    \n",
    "Either.right = Right\n",
    "Either.left = Left"
   ]
  },
  {
   "cell_type": "code",
   "execution_count": 386,
   "metadata": {},
   "outputs": [
    {
     "name": "stdout",
     "output_type": "stream",
     "text": [
      "adding!\n",
      "subbing!\n"
     ]
    },
    {
     "data": {
      "text/plain": [
       "Right(value=9)"
      ]
     },
     "execution_count": 386,
     "metadata": {},
     "output_type": "execute_result"
    }
   ],
   "source": [
    "Either.of(add).ap(Either.of(9))\\\n",
    "    .ap(Either.of(89)).map(sub).ap(Either.of(89))\n",
    "\n"
   ]
  },
  {
   "cell_type": "code",
   "execution_count": 457,
   "metadata": {},
   "outputs": [],
   "source": [
    "from concurrent.futures import ProcessPoolExecutor, ThreadPoolExecutor\n",
    "import numpy as np\n",
    "import time\n",
    "import glob\n",
    "import random\n",
    "import string\n",
    "\n",
    "def multithreading(func, args, workers):\n",
    "    begin_time = time.time()\n",
    "    with ThreadPoolExecutor(max_workers=workers) as executor:\n",
    "        res = executor.map(func, args, [begin_time for i in range(len(args))])\n",
    "    return list(res)\n",
    "\n",
    "from urllib.request import urlopen\n",
    "\n",
    "def download(url, base):\n",
    "    start = time.time() - base\n",
    "    try:\n",
    "        resp = urlopen(url)\n",
    "    except Exception as e:\n",
    "        print ('ERROR: %s' % e)\n",
    "    stop = time.time() - base\n",
    "    return start,stop\n",
    "\n",
    "# def curry(fn):\n",
    "#     @ft.wraps(fn)\n",
    "#     def wrapper(*arg,**kwargs):\n",
    "#         try:\n",
    "#             return fn(*arg,**kwargs)\n",
    "#         except TypeError as e:\n",
    "#             #print(e)\n",
    "#             if hasattr(fn,'func'):\n",
    "#                 return curry(ft.partial(fn.func,*fn.args,*arg,**fn.keywords,**kwargs))\n",
    "#             else:\n",
    "#                 return curry(ft.partial(fn,*arg,**kwargs))\n",
    "#     return wrapper\n",
    "\n",
    "# multithreading(download, urls, 2)"
   ]
  },
  {
   "cell_type": "code",
   "execution_count": 417,
   "metadata": {},
   "outputs": [],
   "source": [
    "N = 6\n",
    "URL = 'http://scholar.princeton.edu/sites/default/files/oversize_pdf_test_0.pdf'\n",
    "urls = [URL for i in range(N)]"
   ]
  },
  {
   "cell_type": "code",
   "execution_count": 418,
   "metadata": {},
   "outputs": [
    {
     "name": "stdout",
     "output_type": "stream",
     "text": [
      "The slowest run took 5.58 times longer than the fastest. This could mean that an intermediate result is being cached.\n",
      "1.88 s ± 1.2 s per loop (mean ± std. dev. of 7 runs, 1 loop each)\n"
     ]
    }
   ],
   "source": [
    "%timeit -n 1 [download(url, 1) for url in urls]\n"
   ]
  },
  {
   "cell_type": "code",
   "execution_count": 420,
   "metadata": {},
   "outputs": [],
   "source": [
    "dl_times = multithreading(download, urls, 1)"
   ]
  },
  {
   "cell_type": "code",
   "execution_count": 424,
   "metadata": {},
   "outputs": [
    {
     "name": "stdout",
     "output_type": "stream",
     "text": [
      "[0.2762460708618164, 0.4635169506072998, 0.4547419548034668, 0.4723970890045166, 0.09868907928466797, 0.07653093338012695]\n",
      "1.853722095489502\n"
     ]
    }
   ],
   "source": [
    "print([ (stop-start) for start,stop in dl_times ])\n",
    "print(dl_times[-1][-1]-dl_times[0][0])"
   ]
  },
  {
   "cell_type": "code",
   "execution_count": 425,
   "metadata": {},
   "outputs": [],
   "source": [
    "dl_times_2 = multithreading(download, urls, 2)"
   ]
  },
  {
   "cell_type": "code",
   "execution_count": 426,
   "metadata": {},
   "outputs": [
    {
     "name": "stdout",
     "output_type": "stream",
     "text": [
      "[0.6512303352355957, 0.4399139881134033, 0.24379897117614746, 0.1127309799194336, 0.17248821258544922, 0.18387794494628906]\n",
      "0.9530880451202393\n"
     ]
    }
   ],
   "source": [
    "print([ (stop-start) for start,stop in dl_times_2 ])\n",
    "print(dl_times_2[-1][-1]-dl_times_2[0][0])"
   ]
  },
  {
   "cell_type": "code",
   "execution_count": 319,
   "metadata": {},
   "outputs": [],
   "source": [
    "@dataclass\n",
    "class Identity:\n",
    "    value: Any\n",
    "    @classmethod\n",
    "    def of(cls,value):\n",
    "        return cls(value)\n",
    "    def map(self,fn):\n",
    "        return Identity.of(fn(self.value))\n",
    "    def ap(self,f):\n",
    "        return f.map(self.value)\n",
    "    def chain(self,fn):\n",
    "        return self.map(fn).join()\n",
    "    def join(self):\n",
    "        return self.value\n",
    "    def sequence(self,of):\n",
    "        return self.traverse(of,r.identity)\n",
    "    def traverse(self,of,fn):\n",
    "        return fn(self.value).map(Identity.of)\n",
    "    "
   ]
  },
  {
   "cell_type": "code",
   "execution_count": 433,
   "metadata": {},
   "outputs": [
    {
     "name": "stdout",
     "output_type": "stream",
     "text": [
      "args (10,),{}\n",
      "args (10, 10),{}\n",
      "20\n"
     ]
    }
   ],
   "source": [
    "out2 = ( \n",
    "Identity.of(lambda x,y: x+y)\n",
    "    .map(dec) # decorate\n",
    "    .map(curry) # decorate\n",
    "    .ap(Identity.of(10)) # apply\n",
    "    .ap(Identity.of(10)) # apply\n",
    ")"
   ]
  },
  {
   "cell_type": "code",
   "execution_count": 407,
   "metadata": {},
   "outputs": [
    {
     "data": {
      "text/plain": [
       "'done sleeping 1... done sleeping 2... '"
      ]
     },
     "execution_count": 407,
     "metadata": {},
     "output_type": "execute_result"
    }
   ],
   "source": [
    "from time import sleep\n",
    "\n",
    "def narco(x):\n",
    "    sleep(x)\n",
    "    return f'done sleeping {x}... '\n",
    "narco(1)+narco(2)"
   ]
  },
  {
   "cell_type": "code",
   "execution_count": 413,
   "metadata": {},
   "outputs": [
    {
     "name": "stdout",
     "output_type": "stream",
     "text": [
      "args ('done sleeping 5... ',),{}\n",
      "args ('done sleeping 5... ', 'done sleeping 5... '),{}\n",
      "done sleeping 5... done sleeping 5... \n"
     ]
    },
    {
     "data": {
      "text/plain": [
       "Identity(value='done sleeping 5... done sleeping 5... ')"
      ]
     },
     "execution_count": 413,
     "metadata": {},
     "output_type": "execute_result"
    }
   ],
   "source": [
    "Identity.of(op.add)\\\n",
    "    .map(dec) \\\n",
    "    .map(curry) \\\n",
    "    .ap(Identity.of(narco(5))) \\\n",
    "    .ap(Identity.of(narco(5)))"
   ]
  },
  {
   "cell_type": "code",
   "execution_count": 402,
   "metadata": {},
   "outputs": [],
   "source": [
    "import asyncio\n",
    "async def outer():\n",
    "    await asyncio.sleep(3)\n",
    "    print('done')\n",
    "    async def inner():\n",
    "        return 'yeah'\n",
    "    return inner\n",
    "\n",
    "loop = asyncio.get_event_loop()"
   ]
  },
  {
   "cell_type": "code",
   "execution_count": 403,
   "metadata": {},
   "outputs": [],
   "source": [
    "#inner = await outer()\n",
    "\n",
    "inner = loop.create_task(outer())"
   ]
  },
  {
   "cell_type": "code",
   "execution_count": 404,
   "metadata": {},
   "outputs": [
    {
     "ename": "TypeError",
     "evalue": "'_asyncio.Task' object is not callable",
     "output_type": "error",
     "traceback": [
      "\u001b[0;31m---------------------------------------------------------------------------\u001b[0m",
      "\u001b[0;31mTypeError\u001b[0m                                 Traceback (most recent call last)",
      "\u001b[0;32m<ipython-input-404-3e46f15cc834>\u001b[0m in \u001b[0;36m<module>\u001b[0;34m()\u001b[0m\n\u001b[0;32m----> 1\u001b[0;31m \u001b[0mresult\u001b[0m \u001b[0;34m=\u001b[0m \u001b[0mloop\u001b[0m\u001b[0;34m.\u001b[0m\u001b[0mcreate_task\u001b[0m\u001b[0;34m(\u001b[0m\u001b[0minner\u001b[0m\u001b[0;34m(\u001b[0m\u001b[0;34m)\u001b[0m\u001b[0;34m)\u001b[0m\u001b[0;34m\u001b[0m\u001b[0m\n\u001b[0m",
      "\u001b[0;31mTypeError\u001b[0m: '_asyncio.Task' object is not callable"
     ]
    },
    {
     "name": "stdout",
     "output_type": "stream",
     "text": [
      "done\n"
     ]
    }
   ],
   "source": [
    "result = loop.create_task(inner())"
   ]
  },
  {
   "cell_type": "code",
   "execution_count": null,
   "metadata": {},
   "outputs": [],
   "source": [
    "print(result)"
   ]
  },
  {
   "cell_type": "code",
   "execution_count": null,
   "metadata": {},
   "outputs": [],
   "source": [
    "@dataclass\n",
    "class AsyncOp:\n",
    "    value: Any\n",
    "    @classmethod\n",
    "    def of(cls,value):\n",
    "        return cls(value)\n",
    "    async def map(self,fn):\n",
    "        return Identity.of(await fn(self.value))\n",
    "    def ap(self,f):\n",
    "        return f.map(self.value)\n",
    "    def chain(self,fn):\n",
    "        return self.map(fn).join()\n",
    "    def join(self):\n",
    "        return self.value\n",
    "    def sequence(self,of):\n",
    "        return self.traverse(of,r.identity)\n",
    "    def traverse(self,of,fn):\n",
    "        return fn(self.value).map(Identity.of)    "
   ]
  },
  {
   "cell_type": "code",
   "execution_count": 435,
   "metadata": {},
   "outputs": [],
   "source": [
    "def make_compose(F,G):\n",
    "    @dataclass\n",
    "    class Compose:\n",
    "        value: Any\n",
    "        @classmethod\n",
    "        def of(cls,x):\n",
    "            return Compose(F(G(x)))\n",
    "        def map(self,fn):\n",
    "            return Compose(self.value.map(lambda x: x.map(fn)))\n",
    "        def ap(self,f):\n",
    "            return f.map(self.value)\n",
    "    return Compose"
   ]
  },
  {
   "cell_type": "code",
   "execution_count": 443,
   "metadata": {},
   "outputs": [],
   "source": [
    "IdCompose = make_compose(Identity.of,Identity.of)"
   ]
  },
  {
   "cell_type": "code",
   "execution_count": 446,
   "metadata": {},
   "outputs": [
    {
     "ename": "TypeError",
     "evalue": "'Identity' object is not callable",
     "output_type": "error",
     "traceback": [
      "\u001b[0;31m---------------------------------------------------------------------------\u001b[0m",
      "\u001b[0;31mTypeError\u001b[0m                                 Traceback (most recent call last)",
      "\u001b[0;32m<ipython-input-446-8382d4ae1e93>\u001b[0m in \u001b[0;36m<module>\u001b[0;34m()\u001b[0m\n\u001b[1;32m      1\u001b[0m \u001b[0mof\u001b[0m \u001b[0;34m=\u001b[0m \u001b[0mIdCompose\u001b[0m\u001b[0;34m.\u001b[0m\u001b[0mof\u001b[0m\u001b[0;34m\u001b[0m\u001b[0m\n\u001b[0;32m----> 2\u001b[0;31m \u001b[0mIdCompose\u001b[0m\u001b[0;34m.\u001b[0m\u001b[0mof\u001b[0m\u001b[0;34m(\u001b[0m\u001b[0madd\u001b[0m\u001b[0;34m)\u001b[0m\u001b[0;34m.\u001b[0m\u001b[0map\u001b[0m\u001b[0;34m(\u001b[0m\u001b[0mof\u001b[0m\u001b[0;34m(\u001b[0m\u001b[0mof\u001b[0m\u001b[0;34m(\u001b[0m\u001b[0;36m1\u001b[0m\u001b[0;34m)\u001b[0m\u001b[0;34m)\u001b[0m\u001b[0;34m)\u001b[0m\u001b[0;34m\u001b[0m\u001b[0m\n\u001b[0m",
      "\u001b[0;32m<ipython-input-435-d2d6a447671b>\u001b[0m in \u001b[0;36map\u001b[0;34m(self, f)\u001b[0m\n\u001b[1;32m      9\u001b[0m             \u001b[0;32mreturn\u001b[0m \u001b[0mCompose\u001b[0m\u001b[0;34m(\u001b[0m\u001b[0mself\u001b[0m\u001b[0;34m.\u001b[0m\u001b[0mvalue\u001b[0m\u001b[0;34m.\u001b[0m\u001b[0mmap\u001b[0m\u001b[0;34m(\u001b[0m\u001b[0;32mlambda\u001b[0m \u001b[0mx\u001b[0m\u001b[0;34m:\u001b[0m \u001b[0mx\u001b[0m\u001b[0;34m.\u001b[0m\u001b[0mmap\u001b[0m\u001b[0;34m(\u001b[0m\u001b[0mfn\u001b[0m\u001b[0;34m)\u001b[0m\u001b[0;34m)\u001b[0m\u001b[0;34m)\u001b[0m\u001b[0;34m\u001b[0m\u001b[0m\n\u001b[1;32m     10\u001b[0m         \u001b[0;32mdef\u001b[0m \u001b[0map\u001b[0m\u001b[0;34m(\u001b[0m\u001b[0mself\u001b[0m\u001b[0;34m,\u001b[0m\u001b[0mf\u001b[0m\u001b[0;34m)\u001b[0m\u001b[0;34m:\u001b[0m\u001b[0;34m\u001b[0m\u001b[0m\n\u001b[0;32m---> 11\u001b[0;31m             \u001b[0;32mreturn\u001b[0m \u001b[0mf\u001b[0m\u001b[0;34m.\u001b[0m\u001b[0mmap\u001b[0m\u001b[0;34m(\u001b[0m\u001b[0mself\u001b[0m\u001b[0;34m.\u001b[0m\u001b[0mvalue\u001b[0m\u001b[0;34m)\u001b[0m\u001b[0;34m\u001b[0m\u001b[0m\n\u001b[0m\u001b[1;32m     12\u001b[0m     \u001b[0;32mreturn\u001b[0m \u001b[0mCompose\u001b[0m\u001b[0;34m\u001b[0m\u001b[0m\n",
      "\u001b[0;32m<ipython-input-435-d2d6a447671b>\u001b[0m in \u001b[0;36mmap\u001b[0;34m(self, fn)\u001b[0m\n\u001b[1;32m      7\u001b[0m             \u001b[0;32mreturn\u001b[0m \u001b[0mCompose\u001b[0m\u001b[0;34m(\u001b[0m\u001b[0mF\u001b[0m\u001b[0;34m(\u001b[0m\u001b[0mG\u001b[0m\u001b[0;34m(\u001b[0m\u001b[0mx\u001b[0m\u001b[0;34m)\u001b[0m\u001b[0;34m)\u001b[0m\u001b[0;34m)\u001b[0m\u001b[0;34m\u001b[0m\u001b[0m\n\u001b[1;32m      8\u001b[0m         \u001b[0;32mdef\u001b[0m \u001b[0mmap\u001b[0m\u001b[0;34m(\u001b[0m\u001b[0mself\u001b[0m\u001b[0;34m,\u001b[0m\u001b[0mfn\u001b[0m\u001b[0;34m)\u001b[0m\u001b[0;34m:\u001b[0m\u001b[0;34m\u001b[0m\u001b[0m\n\u001b[0;32m----> 9\u001b[0;31m             \u001b[0;32mreturn\u001b[0m \u001b[0mCompose\u001b[0m\u001b[0;34m(\u001b[0m\u001b[0mself\u001b[0m\u001b[0;34m.\u001b[0m\u001b[0mvalue\u001b[0m\u001b[0;34m.\u001b[0m\u001b[0mmap\u001b[0m\u001b[0;34m(\u001b[0m\u001b[0;32mlambda\u001b[0m \u001b[0mx\u001b[0m\u001b[0;34m:\u001b[0m \u001b[0mx\u001b[0m\u001b[0;34m.\u001b[0m\u001b[0mmap\u001b[0m\u001b[0;34m(\u001b[0m\u001b[0mfn\u001b[0m\u001b[0;34m)\u001b[0m\u001b[0;34m)\u001b[0m\u001b[0;34m)\u001b[0m\u001b[0;34m\u001b[0m\u001b[0m\n\u001b[0m\u001b[1;32m     10\u001b[0m         \u001b[0;32mdef\u001b[0m \u001b[0map\u001b[0m\u001b[0;34m(\u001b[0m\u001b[0mself\u001b[0m\u001b[0;34m,\u001b[0m\u001b[0mf\u001b[0m\u001b[0;34m)\u001b[0m\u001b[0;34m:\u001b[0m\u001b[0;34m\u001b[0m\u001b[0m\n\u001b[1;32m     11\u001b[0m             \u001b[0;32mreturn\u001b[0m \u001b[0mf\u001b[0m\u001b[0;34m.\u001b[0m\u001b[0mmap\u001b[0m\u001b[0;34m(\u001b[0m\u001b[0mself\u001b[0m\u001b[0;34m.\u001b[0m\u001b[0mvalue\u001b[0m\u001b[0;34m)\u001b[0m\u001b[0;34m\u001b[0m\u001b[0m\n",
      "\u001b[0;32m<ipython-input-319-a96d132b2ca1>\u001b[0m in \u001b[0;36mmap\u001b[0;34m(self, fn)\u001b[0m\n\u001b[1;32m      6\u001b[0m         \u001b[0;32mreturn\u001b[0m \u001b[0mcls\u001b[0m\u001b[0;34m(\u001b[0m\u001b[0mvalue\u001b[0m\u001b[0;34m)\u001b[0m\u001b[0;34m\u001b[0m\u001b[0m\n\u001b[1;32m      7\u001b[0m     \u001b[0;32mdef\u001b[0m \u001b[0mmap\u001b[0m\u001b[0;34m(\u001b[0m\u001b[0mself\u001b[0m\u001b[0;34m,\u001b[0m\u001b[0mfn\u001b[0m\u001b[0;34m)\u001b[0m\u001b[0;34m:\u001b[0m\u001b[0;34m\u001b[0m\u001b[0m\n\u001b[0;32m----> 8\u001b[0;31m         \u001b[0;32mreturn\u001b[0m \u001b[0mIdentity\u001b[0m\u001b[0;34m.\u001b[0m\u001b[0mof\u001b[0m\u001b[0;34m(\u001b[0m\u001b[0mfn\u001b[0m\u001b[0;34m(\u001b[0m\u001b[0mself\u001b[0m\u001b[0;34m.\u001b[0m\u001b[0mvalue\u001b[0m\u001b[0;34m)\u001b[0m\u001b[0;34m)\u001b[0m\u001b[0;34m\u001b[0m\u001b[0m\n\u001b[0m\u001b[1;32m      9\u001b[0m     \u001b[0;32mdef\u001b[0m \u001b[0map\u001b[0m\u001b[0;34m(\u001b[0m\u001b[0mself\u001b[0m\u001b[0;34m,\u001b[0m\u001b[0mf\u001b[0m\u001b[0;34m)\u001b[0m\u001b[0;34m:\u001b[0m\u001b[0;34m\u001b[0m\u001b[0m\n\u001b[1;32m     10\u001b[0m         \u001b[0;32mreturn\u001b[0m \u001b[0mf\u001b[0m\u001b[0;34m.\u001b[0m\u001b[0mmap\u001b[0m\u001b[0;34m(\u001b[0m\u001b[0mself\u001b[0m\u001b[0;34m.\u001b[0m\u001b[0mvalue\u001b[0m\u001b[0;34m)\u001b[0m\u001b[0;34m\u001b[0m\u001b[0m\n",
      "\u001b[0;32m<ipython-input-435-d2d6a447671b>\u001b[0m in \u001b[0;36m<lambda>\u001b[0;34m(x)\u001b[0m\n\u001b[1;32m      7\u001b[0m             \u001b[0;32mreturn\u001b[0m \u001b[0mCompose\u001b[0m\u001b[0;34m(\u001b[0m\u001b[0mF\u001b[0m\u001b[0;34m(\u001b[0m\u001b[0mG\u001b[0m\u001b[0;34m(\u001b[0m\u001b[0mx\u001b[0m\u001b[0;34m)\u001b[0m\u001b[0;34m)\u001b[0m\u001b[0;34m)\u001b[0m\u001b[0;34m\u001b[0m\u001b[0m\n\u001b[1;32m      8\u001b[0m         \u001b[0;32mdef\u001b[0m \u001b[0mmap\u001b[0m\u001b[0;34m(\u001b[0m\u001b[0mself\u001b[0m\u001b[0;34m,\u001b[0m\u001b[0mfn\u001b[0m\u001b[0;34m)\u001b[0m\u001b[0;34m:\u001b[0m\u001b[0;34m\u001b[0m\u001b[0m\n\u001b[0;32m----> 9\u001b[0;31m             \u001b[0;32mreturn\u001b[0m \u001b[0mCompose\u001b[0m\u001b[0;34m(\u001b[0m\u001b[0mself\u001b[0m\u001b[0;34m.\u001b[0m\u001b[0mvalue\u001b[0m\u001b[0;34m.\u001b[0m\u001b[0mmap\u001b[0m\u001b[0;34m(\u001b[0m\u001b[0;32mlambda\u001b[0m \u001b[0mx\u001b[0m\u001b[0;34m:\u001b[0m \u001b[0mx\u001b[0m\u001b[0;34m.\u001b[0m\u001b[0mmap\u001b[0m\u001b[0;34m(\u001b[0m\u001b[0mfn\u001b[0m\u001b[0;34m)\u001b[0m\u001b[0;34m)\u001b[0m\u001b[0;34m)\u001b[0m\u001b[0;34m\u001b[0m\u001b[0m\n\u001b[0m\u001b[1;32m     10\u001b[0m         \u001b[0;32mdef\u001b[0m \u001b[0map\u001b[0m\u001b[0;34m(\u001b[0m\u001b[0mself\u001b[0m\u001b[0;34m,\u001b[0m\u001b[0mf\u001b[0m\u001b[0;34m)\u001b[0m\u001b[0;34m:\u001b[0m\u001b[0;34m\u001b[0m\u001b[0m\n\u001b[1;32m     11\u001b[0m             \u001b[0;32mreturn\u001b[0m \u001b[0mf\u001b[0m\u001b[0;34m.\u001b[0m\u001b[0mmap\u001b[0m\u001b[0;34m(\u001b[0m\u001b[0mself\u001b[0m\u001b[0;34m.\u001b[0m\u001b[0mvalue\u001b[0m\u001b[0;34m)\u001b[0m\u001b[0;34m\u001b[0m\u001b[0m\n",
      "\u001b[0;32m<ipython-input-319-a96d132b2ca1>\u001b[0m in \u001b[0;36mmap\u001b[0;34m(self, fn)\u001b[0m\n\u001b[1;32m      6\u001b[0m         \u001b[0;32mreturn\u001b[0m \u001b[0mcls\u001b[0m\u001b[0;34m(\u001b[0m\u001b[0mvalue\u001b[0m\u001b[0;34m)\u001b[0m\u001b[0;34m\u001b[0m\u001b[0m\n\u001b[1;32m      7\u001b[0m     \u001b[0;32mdef\u001b[0m \u001b[0mmap\u001b[0m\u001b[0;34m(\u001b[0m\u001b[0mself\u001b[0m\u001b[0;34m,\u001b[0m\u001b[0mfn\u001b[0m\u001b[0;34m)\u001b[0m\u001b[0;34m:\u001b[0m\u001b[0;34m\u001b[0m\u001b[0m\n\u001b[0;32m----> 8\u001b[0;31m         \u001b[0;32mreturn\u001b[0m \u001b[0mIdentity\u001b[0m\u001b[0;34m.\u001b[0m\u001b[0mof\u001b[0m\u001b[0;34m(\u001b[0m\u001b[0mfn\u001b[0m\u001b[0;34m(\u001b[0m\u001b[0mself\u001b[0m\u001b[0;34m.\u001b[0m\u001b[0mvalue\u001b[0m\u001b[0;34m)\u001b[0m\u001b[0;34m)\u001b[0m\u001b[0;34m\u001b[0m\u001b[0m\n\u001b[0m\u001b[1;32m      9\u001b[0m     \u001b[0;32mdef\u001b[0m \u001b[0map\u001b[0m\u001b[0;34m(\u001b[0m\u001b[0mself\u001b[0m\u001b[0;34m,\u001b[0m\u001b[0mf\u001b[0m\u001b[0;34m)\u001b[0m\u001b[0;34m:\u001b[0m\u001b[0;34m\u001b[0m\u001b[0m\n\u001b[1;32m     10\u001b[0m         \u001b[0;32mreturn\u001b[0m \u001b[0mf\u001b[0m\u001b[0;34m.\u001b[0m\u001b[0mmap\u001b[0m\u001b[0;34m(\u001b[0m\u001b[0mself\u001b[0m\u001b[0;34m.\u001b[0m\u001b[0mvalue\u001b[0m\u001b[0;34m)\u001b[0m\u001b[0;34m\u001b[0m\u001b[0m\n",
      "\u001b[0;31mTypeError\u001b[0m: 'Identity' object is not callable"
     ]
    }
   ],
   "source": [
    "of = IdCompose.of\n",
    "IdCompose.of(add).ap(of(of(1)))"
   ]
  },
  {
   "cell_type": "code",
   "execution_count": 673,
   "metadata": {},
   "outputs": [],
   "source": [
    "def eencase(fn):\n",
    "    class Encaser:\n",
    "        def fork(reject,resolve):\n",
    "            def wrapper(*args,**kwargs):\n",
    "                try:\n",
    "                    result = fn(*args,**kwargs)\n",
    "                    return resolve(result)\n",
    "                except TypeError as e:\n",
    "                    m = re.match(\"\\D*expected*\\D*(\\d)*\\D*arguments\\D*(\\d)*\", str(e))\n",
    "                    result = e\n",
    "                    if not m:\n",
    "                        raise e\n",
    "                    return reject(*args) if m else resolve(e)\n",
    "            return wrapper\n",
    "    return Encaser\n",
    "\n",
    "def either(fn):\n",
    "    @ft.wraps(fn)\n",
    "    def wrapper(*args,**kwargs):\n",
    "        return encase(fn)(*args,**kwargs).fork(Left,Right)\n",
    "    return wrapper\n",
    "\n",
    "def ecurry(fn):\n",
    "    efn = Either.of(ft.partial(fn) ) if not isinstance(fn,Either) else fn\n",
    "    #def wrapper(arg):\n",
    "    return eencase(efn.ap).fork(lambda x,e: ecurry(ft.partial(op.add,x)),Right )\n",
    "    #return wrapper\n",
    "\n",
    "        "
   ]
  },
  {
   "cell_type": "code",
   "execution_count": 548,
   "metadata": {},
   "outputs": [
    {
     "data": {
      "text/plain": [
       "<function __main__.eencase.<locals>.Encaser.fork.<locals>.wrapper(*args, **kwargs)>"
      ]
     },
     "execution_count": 548,
     "metadata": {},
     "output_type": "execute_result"
    }
   ],
   "source": [
    "ecurry(op.add)(Either.of(1))"
   ]
  },
  {
   "cell_type": "code",
   "execution_count": 516,
   "metadata": {},
   "outputs": [
    {
     "name": "stdout",
     "output_type": "stream",
     "text": [
      "result: op_add expected 2 arguments, got 1\n"
     ]
    },
    {
     "data": {
      "text/plain": [
       "Left(value=TypeError('op_add expected 2 arguments, got 1',))"
      ]
     },
     "execution_count": 516,
     "metadata": {},
     "output_type": "execute_result"
    }
   ],
   "source": [
    "either(op.add)(1).ap(Either.of(2))"
   ]
  },
  {
   "cell_type": "code",
   "execution_count": 476,
   "metadata": {},
   "outputs": [
    {
     "name": "stdout",
     "output_type": "stream",
     "text": [
      "result: <function add at 0x112401488>\n"
     ]
    },
    {
     "data": {
      "text/plain": [
       "Right(value=<function add at 0x112401488>)"
      ]
     },
     "execution_count": 476,
     "metadata": {},
     "output_type": "execute_result"
    }
   ],
   "source": [
    "encase(curry(add))(1).fork(Left,Right)"
   ]
  },
  {
   "cell_type": "code",
   "execution_count": 594,
   "metadata": {},
   "outputs": [],
   "source": [
    "#Either.of(encase(op.add)).ap(Either.of(1)).ap(Either.of(1))"
   ]
  },
  {
   "cell_type": "code",
   "execution_count": 595,
   "metadata": {},
   "outputs": [
    {
     "name": "stdout",
     "output_type": "stream",
     "text": [
      "<class 'TypeError'> op_add expected 2 arguments, got 1\n"
     ]
    },
    {
     "data": {
      "text/plain": [
       "Left(value=1)"
      ]
     },
     "execution_count": 595,
     "metadata": {},
     "output_type": "execute_result"
    }
   ],
   "source": [
    "eencase(op.add).fork(Left,Right)(1)"
   ]
  },
  {
   "cell_type": "code",
   "execution_count": null,
   "metadata": {},
   "outputs": [],
   "source": []
  },
  {
   "cell_type": "code",
   "execution_count": 596,
   "metadata": {},
   "outputs": [],
   "source": [
    "import inspect"
   ]
  },
  {
   "cell_type": "code",
   "execution_count": null,
   "metadata": {},
   "outputs": [],
   "source": []
  },
  {
   "cell_type": "code",
   "execution_count": null,
   "metadata": {},
   "outputs": [],
   "source": []
  },
  {
   "cell_type": "code",
   "execution_count": 600,
   "metadata": {},
   "outputs": [],
   "source": [
    "# efn = Either.of(eencase(op.add).fork(lambda x,e: ft.partial(op.add,x),Right ))\n",
    "# #.ap(Either.of(1))\\\n",
    "# #eencase(efn.ap).fork(lambda x,e: ft.partial(op.add,x),Right )(1)\n",
    "# efn.ap(Either.of(1))"
   ]
  },
  {
   "cell_type": "code",
   "execution_count": 666,
   "metadata": {},
   "outputs": [],
   "source": [
    "def throw(e):\n",
    "    print('here')\n",
    "    raise e"
   ]
  },
  {
   "cell_type": "code",
   "execution_count": 680,
   "metadata": {},
   "outputs": [
    {
     "data": {
      "text/plain": [
       "10"
      ]
     },
     "execution_count": 680,
     "metadata": {},
     "output_type": "execute_result"
    }
   ],
   "source": [
    "of = Either.of\n",
    "\n",
    "ecurry2 = lambda fn: compose(eencase(fn.ap)\\\n",
    "    .fork( \n",
    "        compose(efn,of(partial).ap(fn).ap),  \n",
    "        r.identity\n",
    "    ), of)\n",
    "\n",
    "#ecurry2(Either.of(op.add))(1)('1')\n",
    "\n",
    "eencase(op.add).fork(r.identity,r.identity)(10)\n",
    "#efn(Either.of(1))\n"
   ]
  },
  {
   "cell_type": "code",
   "execution_count": 565,
   "metadata": {},
   "outputs": [],
   "source": [
    "@r.curry\n",
    "def partial(x,y):\n",
    "    return ft.partial(x,y)"
   ]
  },
  {
   "cell_type": "code",
   "execution_count": 632,
   "metadata": {},
   "outputs": [
    {
     "data": {
      "text/plain": [
       "Right(value=functools.partial(<built-in function add>, 1))"
      ]
     },
     "execution_count": 632,
     "metadata": {},
     "output_type": "execute_result"
    }
   ],
   "source": [
    "Either.of(partial).ap(Either.of(op.add)).ap(Either.of(1))"
   ]
  },
  {
   "cell_type": "code",
   "execution_count": 602,
   "metadata": {},
   "outputs": [],
   "source": [
    "import re"
   ]
  },
  {
   "cell_type": "code",
   "execution_count": null,
   "metadata": {},
   "outputs": [],
   "source": [
    "re.find('op_add expected 2 arguments, got 1')"
   ]
  },
  {
   "cell_type": "code",
   "execution_count": 630,
   "metadata": {},
   "outputs": [
    {
     "name": "stdout",
     "output_type": "stream",
     "text": [
      "<_sre.SRE_Match object; span=(0, 34), match='op_add expected 2 arguments, got 1'>\n",
      "1\n"
     ]
    }
   ],
   "source": [
    "t = 'op_add expected 2 arguments, got 1'\n",
    "m = re.match(\"\\D*expected*\\D*(\\d)*\\D*arguments\\D*(\\d)*\", t)\n",
    "print(m)\n",
    "if m:\n",
    "    print(m.group(2))"
   ]
  },
  {
   "cell_type": "code",
   "execution_count": 644,
   "metadata": {},
   "outputs": [
    {
     "data": {
      "text/plain": [
       "'a'"
      ]
     },
     "execution_count": 644,
     "metadata": {},
     "output_type": "execute_result"
    }
   ],
   "source": [
    "str(TypeError('a'))"
   ]
  },
  {
   "cell_type": "code",
   "execution_count": null,
   "metadata": {},
   "outputs": [],
   "source": []
  }
 ],
 "metadata": {
  "kernelspec": {
   "display_name": "Python 3",
   "language": "python",
   "name": "python3"
  },
  "language_info": {
   "codemirror_mode": {
    "name": "ipython",
    "version": 3
   },
   "file_extension": ".py",
   "mimetype": "text/x-python",
   "name": "python",
   "nbconvert_exporter": "python",
   "pygments_lexer": "ipython3",
   "version": "3.6.5"
  }
 },
 "nbformat": 4,
 "nbformat_minor": 2
}
