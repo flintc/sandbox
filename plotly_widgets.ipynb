{
 "cells": [
  {
   "cell_type": "code",
   "execution_count": 1,
   "metadata": {},
   "outputs": [],
   "source": [
    "%load_ext autoreload\n",
    "%autoreload 2"
   ]
  },
  {
   "cell_type": "code",
   "execution_count": 76,
   "metadata": {},
   "outputs": [],
   "source": [
    "import datasci\n",
    "import datasci.datavis\n",
    "import datasci.datavis.plotlyutil\n",
    "from datasci.datavis.plotlyutil import *\n",
    "from datasci.datavis import ipywidgetutil as ipy"
   ]
  },
  {
   "cell_type": "code",
   "execution_count": 77,
   "metadata": {},
   "outputs": [],
   "source": [
    "import plotly.graph_objs as go\n",
    "from sklearn import datasets\n",
    "from sklearn.decomposition import PCA\n",
    "from datasci.objects import merge_deep\n",
    "import datasci.binder as bnd"
   ]
  },
  {
   "cell_type": "code",
   "execution_count": 78,
   "metadata": {},
   "outputs": [],
   "source": [
    "# import some data to play with\n",
    "iris = datasets.load_iris()\n",
    "X = iris.data[:, :2]  # we only take the first two features.\n",
    "Y = iris.target\n",
    "\n",
    "x_min, x_max = X[:, 0].min() - .5, X[:, 0].max() + .5\n",
    "y_min, y_max = X[:, 1].min() - .5, X[:, 1].max() + .5\n",
    "\n"
   ]
  },
  {
   "cell_type": "code",
   "execution_count": 79,
   "metadata": {},
   "outputs": [],
   "source": [
    "trace = go.Scattergl(\n",
    "    **merge_deep(\n",
    "        dict(\n",
    "            x=X[:, 0],\n",
    "            y=X[:, 1],      \n",
    "        ),\n",
    "        GraphObjects.MarkerMode.VIRIDIS,\n",
    "        GraphObjects.MarkerMode.SIZE2D,\n",
    "    )\n",
    ")\n",
    "layout = go.Layout(\n",
    "    width=900,\n",
    "    title='hi',\n",
    "    **merge_deep(\n",
    "    Layouts.make_xlabel('Bam'),\n",
    "    Layouts.make_ylabel('BAZZ'),\n",
    "    Layouts.Jupyter.THEME2D,\n",
    "    Layouts.FONT,\n",
    "))\n",
    "trace.marker.colorscale = 'Blues'            \n",
    "fig = go.FigureWidget(\n",
    "    data = [trace], \n",
    "    layout = layout\n",
    ")\n"
   ]
  },
  {
   "cell_type": "code",
   "execution_count": 80,
   "metadata": {},
   "outputs": [
    {
     "data": {
      "application/vnd.jupyter.widget-view+json": {
       "model_id": "7437125f0aac4ddb91df989f050fd4cc",
       "version_major": 2,
       "version_minor": 0
      },
      "text/plain": [
       "VBox(children=(FigureWidget({\n",
       "    'data': [{'marker': {'colorscale': 'Blues', 'opacity': 0.75, 'showscale': Tr…"
      ]
     },
     "metadata": {},
     "output_type": "display_data"
    }
   ],
   "source": [
    "#widgets.VBox([fig])\n",
    "ipy.Layouts.VBox(layout=ipy.box_col_layout)([fig])"
   ]
  },
  {
   "cell_type": "code",
   "execution_count": null,
   "metadata": {},
   "outputs": [],
   "source": []
  },
  {
   "cell_type": "code",
   "execution_count": null,
   "metadata": {},
   "outputs": [],
   "source": []
  },
  {
   "cell_type": "code",
   "execution_count": null,
   "metadata": {},
   "outputs": [],
   "source": []
  },
  {
   "cell_type": "code",
   "execution_count": 99,
   "metadata": {},
   "outputs": [],
   "source": [
    "import yaml"
   ]
  },
  {
   "cell_type": "code",
   "execution_count": 100,
   "metadata": {},
   "outputs": [],
   "source": [
    "import os"
   ]
  },
  {
   "cell_type": "code",
   "execution_count": 101,
   "metadata": {},
   "outputs": [],
   "source": [
    "f = open(os.path.join(os.getcwd(),'datasci','datavis','scatter.yaml'),'r')\n",
    "foo = yaml.load(f)"
   ]
  },
  {
   "cell_type": "code",
   "execution_count": null,
   "metadata": {},
   "outputs": [],
   "source": []
  },
  {
   "cell_type": "code",
   "execution_count": 102,
   "metadata": {},
   "outputs": [],
   "source": [
    "trace = go.Scattergl(x=X[:, 0], y=X[:, 1],\n",
    "                     **merge_deep(\n",
    "                         dict(\n",
    "                             marker=dict(\n",
    "                                color=np.random.randn(300),\n",
    "                             )\n",
    "                         ),\n",
    "                         foo['GraphObjects']['Scattergl']\n",
    "                     ))\n",
    "options = [\n",
    "    'Greys', 'YlGnBu', 'Greens', 'YlOrRd', 'Bluered', 'RdBu',\n",
    "    'Reds', 'Blues', 'Picnic', 'Rainbow', 'Portland', 'Jet',\n",
    "    'Hot', 'Blackbody', 'Earth', 'Electric', 'Viridis', 'Cividis'\n",
    "]\n",
    "layout = go.Layout(**foo['Layouts']['Scattergl'])"
   ]
  },
  {
   "cell_type": "code",
   "execution_count": 103,
   "metadata": {},
   "outputs": [
    {
     "data": {
      "application/vnd.jupyter.widget-view+json": {
       "model_id": "7fd74ef936ac4e5c94a653baf0ad6a19",
       "version_major": 2,
       "version_minor": 0
      },
      "text/plain": [
       "VBox(children=(Dropdown(description='Colormap: ', index=9, options=('Greys', 'YlGnBu', 'Greens', 'YlOrRd', 'Bl…"
      ]
     },
     "metadata": {},
     "output_type": "display_data"
    }
   ],
   "source": [
    "from ipywidgets import widgets\n",
    "\n",
    "fig = go.FigureWidget(\n",
    "    data = [trace], \n",
    "    layout = layout\n",
    ")\n",
    "\n",
    "def update_on_change(change):\n",
    "    fig.data[0].marker.colorscale = change['new']\n",
    "    \n",
    "def update_opacity(change):\n",
    "    fig.data[0].marker.opacity = change['new']\n",
    "    \n",
    "def update_size(change):\n",
    "    fig.data[0].marker.size = change['new']\n",
    "    \n",
    "w = widgets.Dropdown(\n",
    "    options=options,\n",
    "    value='Rainbow',\n",
    "    description='Colormap: ',\n",
    ")\n",
    "opacity_slider = widgets.FloatSlider(\n",
    "    value=0.75,\n",
    "    min=0.0,\n",
    "    max=1.0,\n",
    "    step=0.05,\n",
    "    description='Opacity: ',\n",
    "    continuous_update = True\n",
    ")\n",
    "size_slider = widgets.FloatSlider(\n",
    "    value=15,\n",
    "    min=1.0,\n",
    "    max=50.0,\n",
    "    step=2.0,\n",
    "    description='Size: ',\n",
    "    continuous_update = True\n",
    ")\n",
    "w.observe(update_on_change, names=\"value\")\n",
    "opacity_slider.observe(update_opacity, names=\"value\")\n",
    "size_slider.observe(update_size, names=\"value\")\n",
    "\n",
    "ipy.Layouts.VBox(layout=ipy.box_col_layout)([w,opacity_slider,size_slider,fig])"
   ]
  },
  {
   "cell_type": "code",
   "execution_count": 104,
   "metadata": {},
   "outputs": [
    {
     "data": {
      "text/plain": [
       "array([-0.67625732, -0.98706129, -0.15067236, -0.72712246,  0.41565093,\n",
       "       -0.81680199,  0.15323228,  4.35953026, -0.71652997,  0.6138968 ])"
      ]
     },
     "execution_count": 104,
     "metadata": {},
     "output_type": "execute_result"
    }
   ],
   "source": [
    "import numpy as np\n",
    "np.random.randn(10)"
   ]
  },
  {
   "cell_type": "code",
   "execution_count": null,
   "metadata": {},
   "outputs": [],
   "source": []
  }
 ],
 "metadata": {
  "kernelspec": {
   "display_name": "Python 3",
   "language": "python",
   "name": "python3"
  },
  "language_info": {
   "codemirror_mode": {
    "name": "ipython",
    "version": 3
   },
   "file_extension": ".py",
   "mimetype": "text/x-python",
   "name": "python",
   "nbconvert_exporter": "python",
   "pygments_lexer": "ipython3",
   "version": "3.6.5"
  }
 },
 "nbformat": 4,
 "nbformat_minor": 2
}
