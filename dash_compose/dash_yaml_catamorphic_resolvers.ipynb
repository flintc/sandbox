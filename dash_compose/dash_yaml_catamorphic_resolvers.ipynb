{
 "cells": [
  {
   "cell_type": "code",
   "execution_count": 460,
   "metadata": {},
   "outputs": [
    {
     "name": "stdout",
     "output_type": "stream",
     "text": [
      "The autoreload extension is already loaded. To reload it, use:\n",
      "  %reload_ext autoreload\n"
     ]
    }
   ],
   "source": [
    "%load_ext autoreload\n",
    "%autoreload 2"
   ]
  },
  {
   "cell_type": "code",
   "execution_count": 461,
   "metadata": {},
   "outputs": [],
   "source": [
    "from dash_compose.util.objects import *\n",
    "from dash_compose.core import *"
   ]
  },
  {
   "cell_type": "code",
   "execution_count": 462,
   "metadata": {},
   "outputs": [],
   "source": [
    "import yaml"
   ]
  },
  {
   "cell_type": "code",
   "execution_count": null,
   "metadata": {},
   "outputs": [],
   "source": []
  },
  {
   "cell_type": "code",
   "execution_count": 463,
   "metadata": {},
   "outputs": [],
   "source": [
    "import numpy as np"
   ]
  },
  {
   "cell_type": "code",
   "execution_count": null,
   "metadata": {},
   "outputs": [],
   "source": []
  },
  {
   "cell_type": "code",
   "execution_count": null,
   "metadata": {},
   "outputs": [],
   "source": []
  },
  {
   "cell_type": "code",
   "execution_count": null,
   "metadata": {},
   "outputs": [],
   "source": []
  },
  {
   "cell_type": "code",
   "execution_count": null,
   "metadata": {},
   "outputs": [],
   "source": []
  },
  {
   "cell_type": "code",
   "execution_count": null,
   "metadata": {},
   "outputs": [],
   "source": []
  },
  {
   "cell_type": "code",
   "execution_count": null,
   "metadata": {},
   "outputs": [],
   "source": []
  },
  {
   "cell_type": "code",
   "execution_count": null,
   "metadata": {},
   "outputs": [],
   "source": []
  },
  {
   "cell_type": "code",
   "execution_count": null,
   "metadata": {},
   "outputs": [],
   "source": []
  },
  {
   "cell_type": "code",
   "execution_count": null,
   "metadata": {},
   "outputs": [],
   "source": []
  },
  {
   "cell_type": "code",
   "execution_count": null,
   "metadata": {},
   "outputs": [],
   "source": []
  },
  {
   "cell_type": "code",
   "execution_count": 464,
   "metadata": {},
   "outputs": [
    {
     "data": {
      "text/plain": [
       "'thecatsatonthemat'"
      ]
     },
     "execution_count": 464,
     "metadata": {},
     "output_type": "execute_result"
    }
   ],
   "source": [
    "listoflists = [['the', 'cat'], ['sat', 'on'], ['the', 'mat']]\n",
    "reduce(add, reduce(add, listoflists, []))"
   ]
  },
  {
   "cell_type": "code",
   "execution_count": 465,
   "metadata": {},
   "outputs": [],
   "source": [
    "\n",
    "\n",
    "def fmap(f, data):\n",
    "#     if isinstance(data, tuple) and len(data)==2 and isinstance( data[1], tuple ) :\n",
    "#         print('len 2 tuple',data)\n",
    "#         #result = tuple([(k, f(v)) for (k, v) in zip(data[0],data[1]) ])\n",
    "#         result = dict([(k, [f(v) for v in data[1] ])])\n",
    "#         print('len 2 tuple result', result)\n",
    "#         return result\n",
    "    def foobar(item):\n",
    "        try:\n",
    "            value = eval(item[0])(**item[1])\n",
    "        except:\n",
    "            value = dict([item])\n",
    "        return value\n",
    "    if isinstance(data, tuple) and all(map(lambda x: len(x)==2, data)): #and len(data)==1 :\n",
    "        foo = [ f(item) for item in data ]\n",
    "        return dict( [foo] )\n",
    "    if isinstance(data, list):\n",
    "        #print('list!',data)\n",
    "        return [f(x) for x in data]\n",
    "    if isinstance(data, dict):\n",
    "        #return {k: f(v) for (k, v) in data.items()}\n",
    "        result = dict([  (k, f(v)) for (k, v) in data.items()])\n",
    "        items = list(result.items())\n",
    "        return foobar(items[0]) if len(items)==1 else result\n",
    "\n",
    "    # if isinstance(data,int):\n",
    "    #     return int(f(data))\n",
    "    return data\n",
    "\n",
    "\n",
    "def cata(f, data):\n",
    "    # First, we recurse inside all the values in data\n",
    "    cata_on_f = lambda x: cata(f, x)\n",
    "    recursed = fmap(cata_on_f, data)\n",
    "    # Then, we apply f to the result\n",
    "    return f(recursed)\n",
    "\n",
    "def sum_one_level(data):\n",
    "    print('data',data,type(data))\n",
    "    if isinstance(data, list):\n",
    "        result = reduce(lambda x,y: y+x, data)\n",
    "        return result\n",
    "    return data\n",
    "\n",
    "def node_one_level(data):\n",
    "    if not isinstance(data, dict):\n",
    "        result = data*-2\n",
    "        return result\n",
    "    return data\n",
    "\n",
    "def eval_nodes_one_level(data):\n",
    "    if not isinstance(data, dict):\n",
    "        try:\n",
    "            result = eval(data)\n",
    "        except (NameError,TypeError):\n",
    "            result = data\n",
    "        return result\n",
    "    return data\n",
    "\n",
    "def key_op_on_value_one_level(data):\n",
    "    print('!!!!!!', data)\n",
    "    if ( isinstance(data, tuple) and len(data)==2 and isinstance(data[1],dict) ):\n",
    "        kwargs = dict(data[1])\n",
    "        try:\n",
    "            result = data[0](**kwargs)\n",
    "        except (NameError,TypeError):\n",
    "            result = data\n",
    "        return result\n",
    "    if ( isinstance(data, tuple) and len(data)==2 ) and not ( isinstance(data[1],dict ) ):\n",
    "        print ('!! not a dict',data)\n",
    "        \n",
    "    return data\n",
    "\n",
    "def add2_one_level(data):\n",
    "    if isinstance(data,int):\n",
    "        return data+2\n",
    "    return data\n",
    "\n",
    "\n",
    "def add_layer_one_level(data):\n",
    "    if isinstance(data,int):\n",
    "        return [data]\n",
    "    return data\n",
    "\n",
    "def localize_one_level(lang, data):\n",
    "    if isinstance(data, dict) and lang in data:\n",
    "        return data[lang]\n",
    "    return data\n",
    "\n",
    "\n",
    "def localize2(lang, data):\n",
    "    localize_one_level_on_lang = lambda x: localize_one_level(lang, x)\n",
    "    return cata(localize_one_level_on_lang, data)\n"
   ]
  },
  {
   "cell_type": "code",
   "execution_count": 466,
   "metadata": {},
   "outputs": [
    {
     "data": {
      "text/plain": [
       "{\"col('md','6')\": {'children': [Graph(id='graph-1', figure={'data': [{'x': array([0.21880287, 0.75483925, 0.74626886, 0.40544487, 0.25480384,\n",
       "          0.7510034 , 0.259881  , 0.98278182, 0.12289042, 0.48094606]), 'y': array([0.63088902, 0.51019963, 0.62074159, 0.62688323, 0.44766901,\n",
       "          0.59672714, 0.85430382, 0.07898633, 0.16106783, 0.33093659])}], 'layout': {'plot_bgcolor': 'grey'}, 'type': 'scatter'})]}}"
      ]
     },
     "execution_count": 466,
     "metadata": {},
     "output_type": "execute_result"
    }
   ],
   "source": [
    "#cata(sum_one_level, [[[1, 2], [3]], [4]])\n",
    "dummy_graph = cata(eval_nodes_one_level, d2)\n",
    "#out = cata(key_op_on_value_one_level, tmp )\n",
    "dummy_graph"
   ]
  },
  {
   "cell_type": "code",
   "execution_count": 476,
   "metadata": {},
   "outputs": [],
   "source": []
  },
  {
   "cell_type": "code",
   "execution_count": 506,
   "metadata": {},
   "outputs": [],
   "source": [
    "data = yaml.load(open('example.yaml'))"
   ]
  },
  {
   "cell_type": "code",
   "execution_count": 507,
   "metadata": {},
   "outputs": [],
   "source": [
    "locals().update(data['variables'])\n",
    "d2 = deepcopy( dummy_graph )\n",
    "#eval(\"col('md','6')\")(**d2[\"col('md','6')\"])"
   ]
  },
  {
   "cell_type": "code",
   "execution_count": 508,
   "metadata": {},
   "outputs": [
    {
     "data": {
      "text/plain": [
       "Graph(id='graph-1', figure={'data': [{'x': array([0.02887438, 0.02993225, 0.35012609, 0.63006053, 0.37076522,\n",
       "       0.23235416, 0.13958807, 0.58770524, 0.61033394, 0.39547577]), 'y': array([0.41009428, 0.78017369, 0.32858455, 0.82678325, 0.9445667 ,\n",
       "       0.02156479, 0.72669521, 0.3038737 , 0.76878759, 0.05489288])}], 'layout': {'plot_bgcolor': 'grey'}, 'type': 'scatter'})"
      ]
     },
     "execution_count": 508,
     "metadata": {},
     "output_type": "execute_result"
    }
   ],
   "source": [
    "dummy_graph = cata(eval_nodes_one_level, d2)\n",
    "dummy_graph"
   ]
  },
  {
   "cell_type": "code",
   "execution_count": 509,
   "metadata": {},
   "outputs": [],
   "source": [
    "d3 = deepcopy( data['dash-app'] )\n",
    "tmp = cata(eval_nodes_one_level, d3)"
   ]
  },
  {
   "cell_type": "code",
   "execution_count": 510,
   "metadata": {},
   "outputs": [
    {
     "data": {
      "text/plain": [
       "{'layout': Div(children=[Div(children=[Graph(id='graph-1', figure={'data': [{'x': array([0.02887438, 0.02993225, 0.35012609, 0.63006053, 0.37076522,\n",
       "        0.23235416, 0.13958807, 0.58770524, 0.61033394, 0.39547577]), 'y': array([0.41009428, 0.78017369, 0.32858455, 0.82678325, 0.9445667 ,\n",
       "        0.02156479, 0.72669521, 0.3038737 , 0.76878759, 0.05489288])}], 'layout': {'plot_bgcolor': 'grey'}, 'type': 'scatter'})], className='col-md-6'), Div(children=[Graph(id='graph-1', figure={'data': [{'x': array([0.02887438, 0.02993225, 0.35012609, 0.63006053, 0.37076522,\n",
       "        0.23235416, 0.13958807, 0.58770524, 0.61033394, 0.39547577]), 'y': array([0.41009428, 0.78017369, 0.32858455, 0.82678325, 0.9445667 ,\n",
       "        0.02156479, 0.72669521, 0.3038737 , 0.76878759, 0.05489288])}], 'layout': {'plot_bgcolor': 'grey'}, 'type': 'scatter'})], className='col-md-6')], className='row')}"
      ]
     },
     "execution_count": 510,
     "metadata": {},
     "output_type": "execute_result"
    }
   ],
   "source": [
    "tmp"
   ]
  },
  {
   "cell_type": "code",
   "execution_count": null,
   "metadata": {},
   "outputs": [],
   "source": []
  },
  {
   "cell_type": "code",
   "execution_count": null,
   "metadata": {},
   "outputs": [],
   "source": []
  },
  {
   "cell_type": "code",
   "execution_count": 425,
   "metadata": {},
   "outputs": [
    {
     "ename": "NameError",
     "evalue": "name 'layout' is not defined",
     "output_type": "error",
     "traceback": [
      "\u001b[0;31m---------------------------------------------------------------------------\u001b[0m",
      "\u001b[0;31mNameError\u001b[0m                                 Traceback (most recent call last)",
      "\u001b[0;32m<ipython-input-425-41cbe03c2055>\u001b[0m in \u001b[0;36m<module>\u001b[0;34m()\u001b[0m\n\u001b[0;32m----> 1\u001b[0;31m \u001b[0meval\u001b[0m\u001b[0;34m(\u001b[0m\u001b[0;34m'layout'\u001b[0m\u001b[0;34m)\u001b[0m\u001b[0;34m\u001b[0m\u001b[0m\n\u001b[0m",
      "\u001b[0;32m<string>\u001b[0m in \u001b[0;36m<module>\u001b[0;34m()\u001b[0m\n",
      "\u001b[0;31mNameError\u001b[0m: name 'layout' is not defined"
     ]
    }
   ],
   "source": [
    "eval('layout')"
   ]
  },
  {
   "cell_type": "code",
   "execution_count": 455,
   "metadata": {},
   "outputs": [
    {
     "data": {
      "text/plain": [
       "<function dash_compose.core.col.<locals>.<lambda>()>"
      ]
     },
     "execution_count": 455,
     "metadata": {},
     "output_type": "execute_result"
    }
   ],
   "source": [
    "eval(\"col('md','6')\")"
   ]
  },
  {
   "cell_type": "code",
   "execution_count": null,
   "metadata": {},
   "outputs": [],
   "source": []
  }
 ],
 "metadata": {
  "kernelspec": {
   "display_name": "Python 3",
   "language": "python",
   "name": "python3"
  },
  "language_info": {
   "codemirror_mode": {
    "name": "ipython",
    "version": 3
   },
   "file_extension": ".py",
   "mimetype": "text/x-python",
   "name": "python",
   "nbconvert_exporter": "python",
   "pygments_lexer": "ipython3",
   "version": "3.6.5"
  }
 },
 "nbformat": 4,
 "nbformat_minor": 2
}
