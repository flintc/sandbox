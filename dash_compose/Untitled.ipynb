{
 "cells": [
  {
   "cell_type": "code",
   "execution_count": 1,
   "metadata": {},
   "outputs": [],
   "source": [
    "%load_ext autoreload\n",
    "%autoreload 2"
   ]
  },
  {
   "cell_type": "code",
   "execution_count": 130,
   "metadata": {},
   "outputs": [],
   "source": [
    "from dash_compose.util.objects import *\n",
    "from dash_compose.core import *"
   ]
  },
  {
   "cell_type": "code",
   "execution_count": 131,
   "metadata": {},
   "outputs": [],
   "source": [
    "import numpy as np"
   ]
  },
  {
   "cell_type": "code",
   "execution_count": 136,
   "metadata": {},
   "outputs": [],
   "source": [
    "notional_config = {\n",
    "    'row': {\n",
    "        'col': {\n",
    "            'graph': {\n",
    "                'id': 'interactive-image',\n",
    "            },\n",
    "            'images': {\n",
    "                'src_encoding': 'png',\n",
    "                'margins': {'l': 40, 'b': 40, 't': 26, 'r': 10},\n",
    "                'images': [ImagePlaceholder(1200,800)]\n",
    "            },       \n",
    "        },\n",
    "    },\n",
    "}\n",
    "example_config = {\n",
    "    'graph': {\n",
    "        'id': 'interactive-image',\n",
    "    },\n",
    "    'with_images': {\n",
    "        'src_encoding': 'png',\n",
    "        'margins': {'l': 40, 'b': 40, 't': 26, 'r': 10},\n",
    "        'images': [ImagePlaceholder(1200,800),ImagePlaceholder(666,800)]\n",
    "    },\n",
    "    'with_scatter_traces': {\n",
    "        'xs': [np.random.rand(10) for i in range(2)],\n",
    "        'ys': [np.random.rand(10) for i in range(2)],\n",
    "    }\n",
    "}\n",
    "notional_config = row([\n",
    "    col(example_config,'md-6'),\n",
    "    col(example_config,'md-6'),\n",
    "])\n"
   ]
  },
  {
   "cell_type": "code",
   "execution_count": 137,
   "metadata": {},
   "outputs": [
    {
     "data": {
      "text/plain": [
       "Div(children=[Div(children=[Graph(id='interactive-image', figure={'data': [{'type': 'scatter', 'mode': 'markers', 'x': array([0.64512253, 0.52140312, 0.01055372, 0.09168214, 0.26994196,\n",
       "       0.97072335, 0.21851337, 0.07103254, 0.29645226, 0.45063007]), 'y': array([0.19339193, 0.08376925, 0.62836333, 0.67124431, 0.22533461,\n",
       "       0.67062864, 0.55526975, 0.31384263, 0.58893974, 0.58137947])}, {'type': 'scatter', 'mode': 'markers', 'x': array([0.88640449, 0.97224972, 0.62434576, 0.93931755, 0.50942876,\n",
       "       0.30106678, 0.75545286, 0.9423087 , 0.64499008, 0.01707405]), 'y': array([0.49572021, 0.07547533, 0.05369504, 0.81617315, 0.28332338,\n",
       "       0.74967345, 0.60523519, 0.24969974, 0.36903479, 0.83348833])}], 'layout': {'xaxis': {'scaleanchor': 'y', 'scaleratio': 1, 'range': (0, 1200)}, 'images': [{'xref': 'x', 'yref': 'y', 'x': 0, 'y': 0, 'yanchor': 'bottom', 'sizing': 'stretch', 'layer': 'below', 'source': 'data:image/png;base64, ', 'sizex': 1200, 'sizey': 800}, {'xref': 'x', 'yref': 'y', 'x': 0, 'y': 0, 'yanchor': 'bottom', 'sizing': 'stretch', 'layer': 'below', 'source': 'data:image/png;base64, ', 'sizex': 666, 'sizey': 800}], 'margin': {'l': 40, 'b': 40, 't': 26, 'r': 10}, 'yaxis': {'range': (0, 800)}}}, config={'modeBarButtonsToRemove': ['sendDataToCloud', 'autoScale2d', 'toggleSpikelines', 'hoverClosestCartesian', 'hoverCompareCartesian', 'zoom2d']})], className='col-md-6'), Div(children=[Graph(id='interactive-image', figure={'data': [{'type': 'scatter', 'mode': 'markers', 'x': array([0.64512253, 0.52140312, 0.01055372, 0.09168214, 0.26994196,\n",
       "       0.97072335, 0.21851337, 0.07103254, 0.29645226, 0.45063007]), 'y': array([0.19339193, 0.08376925, 0.62836333, 0.67124431, 0.22533461,\n",
       "       0.67062864, 0.55526975, 0.31384263, 0.58893974, 0.58137947])}, {'type': 'scatter', 'mode': 'markers', 'x': array([0.88640449, 0.97224972, 0.62434576, 0.93931755, 0.50942876,\n",
       "       0.30106678, 0.75545286, 0.9423087 , 0.64499008, 0.01707405]), 'y': array([0.49572021, 0.07547533, 0.05369504, 0.81617315, 0.28332338,\n",
       "       0.74967345, 0.60523519, 0.24969974, 0.36903479, 0.83348833])}], 'layout': {'xaxis': {'scaleanchor': 'y', 'scaleratio': 1, 'range': (0, 1200)}, 'images': [{'xref': 'x', 'yref': 'y', 'x': 0, 'y': 0, 'yanchor': 'bottom', 'sizing': 'stretch', 'layer': 'below', 'source': 'data:image/png;base64, ', 'sizex': 1200, 'sizey': 800}, {'xref': 'x', 'yref': 'y', 'x': 0, 'y': 0, 'yanchor': 'bottom', 'sizing': 'stretch', 'layer': 'below', 'source': 'data:image/png;base64, ', 'sizex': 666, 'sizey': 800}], 'margin': {'l': 40, 'b': 40, 't': 26, 'r': 10}, 'yaxis': {'range': (0, 800)}}}, config={'modeBarButtonsToRemove': ['sendDataToCloud', 'autoScale2d', 'toggleSpikelines', 'hoverClosestCartesian', 'hoverCompareCartesian', 'zoom2d']})], className='col-md-6')], className='row')"
      ]
     },
     "execution_count": 137,
     "metadata": {},
     "output_type": "execute_result"
    }
   ],
   "source": [
    "notional_config"
   ]
  },
  {
   "cell_type": "code",
   "execution_count": 41,
   "metadata": {},
   "outputs": [
    {
     "data": {
      "text/plain": [
       "{'figure': {'layout': {'xaxis': {'range': (0, 1200)},\n",
       "   'yaxis': {'range': (0, 800)},\n",
       "   'images': [{'sizex': 1200, 'sizey': 800}]}}}"
      ]
     },
     "execution_count": 41,
     "metadata": {},
     "output_type": "execute_result"
    }
   ],
   "source": [
    "image_graph_updateable_dependencies([ImagePlaceholder(1200,800)])"
   ]
  },
  {
   "cell_type": "code",
   "execution_count": 32,
   "metadata": {},
   "outputs": [
    {
     "data": {
      "text/plain": [
       "{'col-md-6': 10}"
      ]
     },
     "execution_count": 32,
     "metadata": {},
     "output_type": "execute_result"
    }
   ],
   "source": [
    "{'col-md-6': 10}"
   ]
  },
  {
   "cell_type": "code",
   "execution_count": 12,
   "metadata": {},
   "outputs": [],
   "source": [
    "d=dict(a=1,b=2)"
   ]
  },
  {
   "cell_type": "code",
   "execution_count": 15,
   "metadata": {},
   "outputs": [
    {
     "data": {
      "text/plain": [
       "{'a': 1}"
      ]
     },
     "execution_count": 15,
     "metadata": {},
     "output_type": "execute_result"
    }
   ],
   "source": [
    "pick(d,'a')"
   ]
  },
  {
   "cell_type": "code",
   "execution_count": 9,
   "metadata": {},
   "outputs": [
    {
     "data": {
      "text/plain": [
       "{'b'}"
      ]
     },
     "execution_count": 9,
     "metadata": {},
     "output_type": "execute_result"
    }
   ],
   "source": [
    "\n",
    "widgets = \n",
    "\n"
   ]
  },
  {
   "cell_type": "code",
   "execution_count": 16,
   "metadata": {},
   "outputs": [],
   "source": [
    "import inspect"
   ]
  },
  {
   "cell_type": "code",
   "execution_count": 19,
   "metadata": {},
   "outputs": [
    {
     "data": {
      "text/plain": [
       "['x']"
      ]
     },
     "execution_count": 19,
     "metadata": {},
     "output_type": "execute_result"
    }
   ],
   "source": [
    "inspect.getfullargspec(pick).args"
   ]
  },
  {
   "cell_type": "code",
   "execution_count": 23,
   "metadata": {},
   "outputs": [
    {
     "data": {
      "text/plain": [
       "{'id': <function id(obj, /)>,\n",
       " 'figure': {'data': [],\n",
       "  'layout': {'xaxis': {'range': (0, 1200)},\n",
       "   'yaxis': {'range': (0, 800)},\n",
       "   'images': [{'sizex': 1200, 'sizey': 800}]}},\n",
       " 'config': {'modeBarButtonsToRemove': ['sendDataToCloud',\n",
       "   'autoScale2d',\n",
       "   'toggleSpikelines',\n",
       "   'hoverClosestCartesian',\n",
       "   'hoverCompareCartesian',\n",
       "   'zoom2d']}}"
      ]
     },
     "execution_count": 23,
     "metadata": {},
     "output_type": "execute_result"
    }
   ],
   "source": [
    "example"
   ]
  },
  {
   "cell_type": "code",
   "execution_count": 42,
   "metadata": {},
   "outputs": [
    {
     "data": {
      "text/plain": [
       "{'a': 1, 'b': [{'a1': 2, 'b1': 2}], 'c': 1}"
      ]
     },
     "execution_count": 42,
     "metadata": {},
     "output_type": "execute_result"
    }
   ],
   "source": [
    "d1 = dict(a=1,b=[dict(a1=2)])\n",
    "d2 = dict(c=1,b=[dict(b1=2)])\n",
    "merge_deep(d1,d2)"
   ]
  },
  {
   "cell_type": "code",
   "execution_count": null,
   "metadata": {},
   "outputs": [],
   "source": []
  }
 ],
 "metadata": {
  "kernelspec": {
   "display_name": "Python 3",
   "language": "python",
   "name": "python3"
  },
  "language_info": {
   "codemirror_mode": {
    "name": "ipython",
    "version": 3
   },
   "file_extension": ".py",
   "mimetype": "text/x-python",
   "name": "python",
   "nbconvert_exporter": "python",
   "pygments_lexer": "ipython3",
   "version": "3.6.5"
  }
 },
 "nbformat": 4,
 "nbformat_minor": 2
}
